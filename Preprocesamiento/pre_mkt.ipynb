{
 "cells": [
  {
   "cell_type": "markdown",
   "id": "19386d31",
   "metadata": {},
   "source": [
    "#### Librerias"
   ]
  },
  {
   "cell_type": "code",
   "execution_count": 499,
   "id": "6ac4de6c",
   "metadata": {},
   "outputs": [],
   "source": [
    "#Librerias generales\n",
    "import pandas as pd\n",
    "import numpy as np\n",
    "\n",
    "#Librerias procesamiento de datos\n",
    "from datetime import datetime, timedelta\n",
    "\n",
    "#Librerias para gráficas\n",
    "import matplotlib.pyplot as plt\n",
    "import seaborn as sns\n",
    "import plotly.express as px\n",
    "import plotly.graph_objects as go\n"
   ]
  },
  {
   "cell_type": "markdown",
   "id": "84a08570",
   "metadata": {},
   "source": [
    "#### Configuración"
   ]
  },
  {
   "cell_type": "code",
   "execution_count": 500,
   "id": "524d65a5",
   "metadata": {},
   "outputs": [],
   "source": [
    "plt.style.use('ggplot')\n",
    "sns.set(style=\"whitegrid\")\n",
    "plt.rcParams['figure.figsize'] = (12, 4)\n",
    "plt.rcParams['font.size'] = 12"
   ]
  },
  {
   "cell_type": "markdown",
   "id": "1f8e2fbe",
   "metadata": {},
   "source": [
    "#### Carga de data"
   ]
  },
  {
   "cell_type": "code",
   "execution_count": 501,
   "id": "29a42100",
   "metadata": {},
   "outputs": [],
   "source": [
    "df = pd.read_csv('/Users/n.arcos89/Documents/GitHub/upgrade-hub-marketing-analysis/Data/marketingcampaigns.csv', on_bad_lines='skip')"
   ]
  },
  {
   "cell_type": "markdown",
   "id": "3608280e",
   "metadata": {},
   "source": [
    "#### Aproximación al dataframe"
   ]
  },
  {
   "cell_type": "code",
   "execution_count": 502,
   "id": "71be7538",
   "metadata": {},
   "outputs": [
    {
     "data": {
      "text/html": [
       "<div>\n",
       "<style scoped>\n",
       "    .dataframe tbody tr th:only-of-type {\n",
       "        vertical-align: middle;\n",
       "    }\n",
       "\n",
       "    .dataframe tbody tr th {\n",
       "        vertical-align: top;\n",
       "    }\n",
       "\n",
       "    .dataframe thead th {\n",
       "        text-align: right;\n",
       "    }\n",
       "</style>\n",
       "<table border=\"1\" class=\"dataframe\">\n",
       "  <thead>\n",
       "    <tr style=\"text-align: right;\">\n",
       "      <th></th>\n",
       "      <th>campaign_name</th>\n",
       "      <th>start_date</th>\n",
       "      <th>end_date</th>\n",
       "      <th>budget</th>\n",
       "      <th>roi</th>\n",
       "      <th>type</th>\n",
       "      <th>target_audience</th>\n",
       "      <th>channel</th>\n",
       "      <th>conversion_rate</th>\n",
       "      <th>revenue</th>\n",
       "    </tr>\n",
       "  </thead>\n",
       "  <tbody>\n",
       "    <tr>\n",
       "      <th>0</th>\n",
       "      <td>Public-key multi-tasking throughput</td>\n",
       "      <td>2023-04-01</td>\n",
       "      <td>2024-02-23</td>\n",
       "      <td>8082.3</td>\n",
       "      <td>0.35</td>\n",
       "      <td>email</td>\n",
       "      <td>B2B</td>\n",
       "      <td>organic</td>\n",
       "      <td>0.40</td>\n",
       "      <td>709593.48</td>\n",
       "    </tr>\n",
       "    <tr>\n",
       "      <th>1</th>\n",
       "      <td>De-engineered analyzing task-force</td>\n",
       "      <td>2023-02-15</td>\n",
       "      <td>2024-04-22</td>\n",
       "      <td>17712.98</td>\n",
       "      <td>0.74</td>\n",
       "      <td>email</td>\n",
       "      <td>B2C</td>\n",
       "      <td>promotion</td>\n",
       "      <td>0.66</td>\n",
       "      <td>516609.10</td>\n",
       "    </tr>\n",
       "  </tbody>\n",
       "</table>\n",
       "</div>"
      ],
      "text/plain": [
       "                         campaign_name  start_date    end_date    budget  \\\n",
       "0  Public-key multi-tasking throughput  2023-04-01  2024-02-23    8082.3   \n",
       "1   De-engineered analyzing task-force  2023-02-15  2024-04-22  17712.98   \n",
       "\n",
       "    roi   type target_audience    channel  conversion_rate    revenue  \n",
       "0  0.35  email             B2B    organic             0.40  709593.48  \n",
       "1  0.74  email             B2C  promotion             0.66  516609.10  "
      ]
     },
     "execution_count": 502,
     "metadata": {},
     "output_type": "execute_result"
    }
   ],
   "source": [
    "#comprobamos las dos primeras filas del dataframe\n",
    "df.head(2)"
   ]
  },
  {
   "cell_type": "code",
   "execution_count": 503,
   "id": "ba187d40",
   "metadata": {},
   "outputs": [
    {
     "data": {
      "text/html": [
       "<div>\n",
       "<style scoped>\n",
       "    .dataframe tbody tr th:only-of-type {\n",
       "        vertical-align: middle;\n",
       "    }\n",
       "\n",
       "    .dataframe tbody tr th {\n",
       "        vertical-align: top;\n",
       "    }\n",
       "\n",
       "    .dataframe thead th {\n",
       "        text-align: right;\n",
       "    }\n",
       "</style>\n",
       "<table border=\"1\" class=\"dataframe\">\n",
       "  <thead>\n",
       "    <tr style=\"text-align: right;\">\n",
       "      <th></th>\n",
       "      <th>campaign_name</th>\n",
       "      <th>start_date</th>\n",
       "      <th>end_date</th>\n",
       "      <th>budget</th>\n",
       "      <th>roi</th>\n",
       "      <th>type</th>\n",
       "      <th>target_audience</th>\n",
       "      <th>channel</th>\n",
       "      <th>conversion_rate</th>\n",
       "      <th>revenue</th>\n",
       "    </tr>\n",
       "  </thead>\n",
       "  <tbody>\n",
       "    <tr>\n",
       "      <th>1030</th>\n",
       "      <td>Overlapping dates</td>\n",
       "      <td>2023-03-01</td>\n",
       "      <td>2022-12-31</td>\n",
       "      <td>60000</td>\n",
       "      <td>0.6</td>\n",
       "      <td>webinar</td>\n",
       "      <td>B2B</td>\n",
       "      <td>paid</td>\n",
       "      <td>0.7</td>\n",
       "      <td>90000.0</td>\n",
       "    </tr>\n",
       "    <tr>\n",
       "      <th>1031</th>\n",
       "      <td>Too many conversions</td>\n",
       "      <td>2023-05-01</td>\n",
       "      <td>2023-11-01</td>\n",
       "      <td>40000</td>\n",
       "      <td>0.8</td>\n",
       "      <td>social media</td>\n",
       "      <td>B2C</td>\n",
       "      <td>organic</td>\n",
       "      <td>1.5</td>\n",
       "      <td>120000.0</td>\n",
       "    </tr>\n",
       "  </tbody>\n",
       "</table>\n",
       "</div>"
      ],
      "text/plain": [
       "             campaign_name  start_date    end_date budget  roi          type  \\\n",
       "1030     Overlapping dates  2023-03-01  2022-12-31  60000  0.6       webinar   \n",
       "1031  Too many conversions  2023-05-01  2023-11-01  40000  0.8  social media   \n",
       "\n",
       "     target_audience  channel  conversion_rate   revenue  \n",
       "1030             B2B     paid              0.7   90000.0  \n",
       "1031             B2C  organic              1.5  120000.0  "
      ]
     },
     "execution_count": 503,
     "metadata": {},
     "output_type": "execute_result"
    }
   ],
   "source": [
    "#compromabos las dos últimas filas del dataframe\n",
    "df.tail(2)"
   ]
  },
  {
   "cell_type": "code",
   "execution_count": 504,
   "id": "04c4ff85",
   "metadata": {},
   "outputs": [
    {
     "data": {
      "text/plain": [
       "(1032, 10)"
      ]
     },
     "execution_count": 504,
     "metadata": {},
     "output_type": "execute_result"
    }
   ],
   "source": [
    "#comprobamos la extensión del dataset\n",
    "df.shape"
   ]
  },
  {
   "cell_type": "code",
   "execution_count": 505,
   "id": "72ff13c3",
   "metadata": {},
   "outputs": [
    {
     "data": {
      "text/plain": [
       "Index(['campaign_name', 'start_date', 'end_date', 'budget', 'roi', 'type',\n",
       "       'target_audience', 'channel', 'conversion_rate', 'revenue'],\n",
       "      dtype='object')"
      ]
     },
     "execution_count": 505,
     "metadata": {},
     "output_type": "execute_result"
    }
   ],
   "source": [
    "#conocemos las columnas del df\n",
    "df.columns"
   ]
  },
  {
   "cell_type": "code",
   "execution_count": 506,
   "id": "e3200c86",
   "metadata": {},
   "outputs": [
    {
     "name": "stdout",
     "output_type": "stream",
     "text": [
      "<class 'pandas.core.frame.DataFrame'>\n",
      "RangeIndex: 1032 entries, 0 to 1031\n",
      "Data columns (total 10 columns):\n",
      " #   Column           Non-Null Count  Dtype  \n",
      "---  ------           --------------  -----  \n",
      " 0   campaign_name    1032 non-null   object \n",
      " 1   start_date       1031 non-null   object \n",
      " 2   end_date         1030 non-null   object \n",
      " 3   budget           1029 non-null   object \n",
      " 4   roi              1028 non-null   float64\n",
      " 5   type             1031 non-null   object \n",
      " 6   target_audience  1030 non-null   object \n",
      " 7   channel          1031 non-null   object \n",
      " 8   conversion_rate  1028 non-null   float64\n",
      " 9   revenue          1029 non-null   float64\n",
      "dtypes: float64(3), object(7)\n",
      "memory usage: 80.8+ KB\n"
     ]
    }
   ],
   "source": [
    "#conocemos los tipos de datos del df\n",
    "df.info()"
   ]
  },
  {
   "cell_type": "code",
   "execution_count": 507,
   "id": "584c450d",
   "metadata": {},
   "outputs": [
    {
     "data": {
      "text/html": [
       "<div>\n",
       "<style scoped>\n",
       "    .dataframe tbody tr th:only-of-type {\n",
       "        vertical-align: middle;\n",
       "    }\n",
       "\n",
       "    .dataframe tbody tr th {\n",
       "        vertical-align: top;\n",
       "    }\n",
       "\n",
       "    .dataframe thead th {\n",
       "        text-align: right;\n",
       "    }\n",
       "</style>\n",
       "<table border=\"1\" class=\"dataframe\">\n",
       "  <thead>\n",
       "    <tr style=\"text-align: right;\">\n",
       "      <th></th>\n",
       "      <th>roi</th>\n",
       "      <th>conversion_rate</th>\n",
       "      <th>revenue</th>\n",
       "    </tr>\n",
       "  </thead>\n",
       "  <tbody>\n",
       "    <tr>\n",
       "      <th>count</th>\n",
       "      <td>1028.000000</td>\n",
       "      <td>1028.000000</td>\n",
       "      <td>1029.000000</td>\n",
       "    </tr>\n",
       "    <tr>\n",
       "      <th>mean</th>\n",
       "      <td>0.533804</td>\n",
       "      <td>0.541936</td>\n",
       "      <td>511591.195277</td>\n",
       "    </tr>\n",
       "    <tr>\n",
       "      <th>std</th>\n",
       "      <td>0.261869</td>\n",
       "      <td>0.267353</td>\n",
       "      <td>287292.729847</td>\n",
       "    </tr>\n",
       "    <tr>\n",
       "      <th>min</th>\n",
       "      <td>-0.200000</td>\n",
       "      <td>0.000000</td>\n",
       "      <td>108.210000</td>\n",
       "    </tr>\n",
       "    <tr>\n",
       "      <th>25%</th>\n",
       "      <td>0.310000</td>\n",
       "      <td>0.300000</td>\n",
       "      <td>267820.250000</td>\n",
       "    </tr>\n",
       "    <tr>\n",
       "      <th>50%</th>\n",
       "      <td>0.530000</td>\n",
       "      <td>0.550000</td>\n",
       "      <td>518001.770000</td>\n",
       "    </tr>\n",
       "    <tr>\n",
       "      <th>75%</th>\n",
       "      <td>0.760000</td>\n",
       "      <td>0.770000</td>\n",
       "      <td>765775.140000</td>\n",
       "    </tr>\n",
       "    <tr>\n",
       "      <th>max</th>\n",
       "      <td>0.990000</td>\n",
       "      <td>1.500000</td>\n",
       "      <td>999712.490000</td>\n",
       "    </tr>\n",
       "  </tbody>\n",
       "</table>\n",
       "</div>"
      ],
      "text/plain": [
       "               roi  conversion_rate        revenue\n",
       "count  1028.000000      1028.000000    1029.000000\n",
       "mean      0.533804         0.541936  511591.195277\n",
       "std       0.261869         0.267353  287292.729847\n",
       "min      -0.200000         0.000000     108.210000\n",
       "25%       0.310000         0.300000  267820.250000\n",
       "50%       0.530000         0.550000  518001.770000\n",
       "75%       0.760000         0.770000  765775.140000\n",
       "max       0.990000         1.500000  999712.490000"
      ]
     },
     "execution_count": 507,
     "metadata": {},
     "output_type": "execute_result"
    }
   ],
   "source": [
    "#hacemos un resumen estadístico de las variables numéricas\n",
    "df.describe()"
   ]
  },
  {
   "cell_type": "code",
   "execution_count": 508,
   "id": "18a70c56",
   "metadata": {},
   "outputs": [
    {
     "data": {
      "text/html": [
       "<div>\n",
       "<style scoped>\n",
       "    .dataframe tbody tr th:only-of-type {\n",
       "        vertical-align: middle;\n",
       "    }\n",
       "\n",
       "    .dataframe tbody tr th {\n",
       "        vertical-align: top;\n",
       "    }\n",
       "\n",
       "    .dataframe thead th {\n",
       "        text-align: right;\n",
       "    }\n",
       "</style>\n",
       "<table border=\"1\" class=\"dataframe\">\n",
       "  <thead>\n",
       "    <tr style=\"text-align: right;\">\n",
       "      <th></th>\n",
       "      <th>campaign_name</th>\n",
       "      <th>start_date</th>\n",
       "      <th>end_date</th>\n",
       "      <th>budget</th>\n",
       "      <th>roi</th>\n",
       "      <th>type</th>\n",
       "      <th>target_audience</th>\n",
       "      <th>channel</th>\n",
       "      <th>conversion_rate</th>\n",
       "      <th>revenue</th>\n",
       "    </tr>\n",
       "  </thead>\n",
       "  <tbody>\n",
       "    <tr>\n",
       "      <th>count</th>\n",
       "      <td>1032</td>\n",
       "      <td>1031</td>\n",
       "      <td>1030</td>\n",
       "      <td>1029</td>\n",
       "      <td>1028.000000</td>\n",
       "      <td>1031</td>\n",
       "      <td>1030</td>\n",
       "      <td>1031</td>\n",
       "      <td>1028.000000</td>\n",
       "      <td>1029.000000</td>\n",
       "    </tr>\n",
       "    <tr>\n",
       "      <th>unique</th>\n",
       "      <td>1014</td>\n",
       "      <td>347</td>\n",
       "      <td>347</td>\n",
       "      <td>1011</td>\n",
       "      <td>NaN</td>\n",
       "      <td>6</td>\n",
       "      <td>3</td>\n",
       "      <td>4</td>\n",
       "      <td>NaN</td>\n",
       "      <td>NaN</td>\n",
       "    </tr>\n",
       "    <tr>\n",
       "      <th>top</th>\n",
       "      <td>User-friendly client-driven service-desk</td>\n",
       "      <td>2023-07-07</td>\n",
       "      <td>2023-10-09</td>\n",
       "      <td>8082.3</td>\n",
       "      <td>NaN</td>\n",
       "      <td>email</td>\n",
       "      <td>B2B</td>\n",
       "      <td>promotion</td>\n",
       "      <td>NaN</td>\n",
       "      <td>NaN</td>\n",
       "    </tr>\n",
       "    <tr>\n",
       "      <th>freq</th>\n",
       "      <td>3</td>\n",
       "      <td>9</td>\n",
       "      <td>9</td>\n",
       "      <td>4</td>\n",
       "      <td>NaN</td>\n",
       "      <td>288</td>\n",
       "      <td>529</td>\n",
       "      <td>280</td>\n",
       "      <td>NaN</td>\n",
       "      <td>NaN</td>\n",
       "    </tr>\n",
       "    <tr>\n",
       "      <th>mean</th>\n",
       "      <td>NaN</td>\n",
       "      <td>NaN</td>\n",
       "      <td>NaN</td>\n",
       "      <td>NaN</td>\n",
       "      <td>0.533804</td>\n",
       "      <td>NaN</td>\n",
       "      <td>NaN</td>\n",
       "      <td>NaN</td>\n",
       "      <td>0.541936</td>\n",
       "      <td>511591.195277</td>\n",
       "    </tr>\n",
       "    <tr>\n",
       "      <th>std</th>\n",
       "      <td>NaN</td>\n",
       "      <td>NaN</td>\n",
       "      <td>NaN</td>\n",
       "      <td>NaN</td>\n",
       "      <td>0.261869</td>\n",
       "      <td>NaN</td>\n",
       "      <td>NaN</td>\n",
       "      <td>NaN</td>\n",
       "      <td>0.267353</td>\n",
       "      <td>287292.729847</td>\n",
       "    </tr>\n",
       "    <tr>\n",
       "      <th>min</th>\n",
       "      <td>NaN</td>\n",
       "      <td>NaN</td>\n",
       "      <td>NaN</td>\n",
       "      <td>NaN</td>\n",
       "      <td>-0.200000</td>\n",
       "      <td>NaN</td>\n",
       "      <td>NaN</td>\n",
       "      <td>NaN</td>\n",
       "      <td>0.000000</td>\n",
       "      <td>108.210000</td>\n",
       "    </tr>\n",
       "    <tr>\n",
       "      <th>25%</th>\n",
       "      <td>NaN</td>\n",
       "      <td>NaN</td>\n",
       "      <td>NaN</td>\n",
       "      <td>NaN</td>\n",
       "      <td>0.310000</td>\n",
       "      <td>NaN</td>\n",
       "      <td>NaN</td>\n",
       "      <td>NaN</td>\n",
       "      <td>0.300000</td>\n",
       "      <td>267820.250000</td>\n",
       "    </tr>\n",
       "    <tr>\n",
       "      <th>50%</th>\n",
       "      <td>NaN</td>\n",
       "      <td>NaN</td>\n",
       "      <td>NaN</td>\n",
       "      <td>NaN</td>\n",
       "      <td>0.530000</td>\n",
       "      <td>NaN</td>\n",
       "      <td>NaN</td>\n",
       "      <td>NaN</td>\n",
       "      <td>0.550000</td>\n",
       "      <td>518001.770000</td>\n",
       "    </tr>\n",
       "    <tr>\n",
       "      <th>75%</th>\n",
       "      <td>NaN</td>\n",
       "      <td>NaN</td>\n",
       "      <td>NaN</td>\n",
       "      <td>NaN</td>\n",
       "      <td>0.760000</td>\n",
       "      <td>NaN</td>\n",
       "      <td>NaN</td>\n",
       "      <td>NaN</td>\n",
       "      <td>0.770000</td>\n",
       "      <td>765775.140000</td>\n",
       "    </tr>\n",
       "    <tr>\n",
       "      <th>max</th>\n",
       "      <td>NaN</td>\n",
       "      <td>NaN</td>\n",
       "      <td>NaN</td>\n",
       "      <td>NaN</td>\n",
       "      <td>0.990000</td>\n",
       "      <td>NaN</td>\n",
       "      <td>NaN</td>\n",
       "      <td>NaN</td>\n",
       "      <td>1.500000</td>\n",
       "      <td>999712.490000</td>\n",
       "    </tr>\n",
       "  </tbody>\n",
       "</table>\n",
       "</div>"
      ],
      "text/plain": [
       "                                   campaign_name  start_date    end_date  \\\n",
       "count                                       1032        1031        1030   \n",
       "unique                                      1014         347         347   \n",
       "top     User-friendly client-driven service-desk  2023-07-07  2023-10-09   \n",
       "freq                                           3           9           9   \n",
       "mean                                         NaN         NaN         NaN   \n",
       "std                                          NaN         NaN         NaN   \n",
       "min                                          NaN         NaN         NaN   \n",
       "25%                                          NaN         NaN         NaN   \n",
       "50%                                          NaN         NaN         NaN   \n",
       "75%                                          NaN         NaN         NaN   \n",
       "max                                          NaN         NaN         NaN   \n",
       "\n",
       "        budget          roi   type target_audience    channel  \\\n",
       "count     1029  1028.000000   1031            1030       1031   \n",
       "unique    1011          NaN      6               3          4   \n",
       "top     8082.3          NaN  email             B2B  promotion   \n",
       "freq         4          NaN    288             529        280   \n",
       "mean       NaN     0.533804    NaN             NaN        NaN   \n",
       "std        NaN     0.261869    NaN             NaN        NaN   \n",
       "min        NaN    -0.200000    NaN             NaN        NaN   \n",
       "25%        NaN     0.310000    NaN             NaN        NaN   \n",
       "50%        NaN     0.530000    NaN             NaN        NaN   \n",
       "75%        NaN     0.760000    NaN             NaN        NaN   \n",
       "max        NaN     0.990000    NaN             NaN        NaN   \n",
       "\n",
       "        conversion_rate        revenue  \n",
       "count       1028.000000    1029.000000  \n",
       "unique              NaN            NaN  \n",
       "top                 NaN            NaN  \n",
       "freq                NaN            NaN  \n",
       "mean           0.541936  511591.195277  \n",
       "std            0.267353  287292.729847  \n",
       "min            0.000000     108.210000  \n",
       "25%            0.300000  267820.250000  \n",
       "50%            0.550000  518001.770000  \n",
       "75%            0.770000  765775.140000  \n",
       "max            1.500000  999712.490000  "
      ]
     },
     "execution_count": 508,
     "metadata": {},
     "output_type": "execute_result"
    }
   ],
   "source": [
    "#todas las variables\n",
    "df.describe(include='all')"
   ]
  },
  {
   "cell_type": "markdown",
   "id": "c424f47e",
   "metadata": {},
   "source": [
    "#### Limpieza de los datos"
   ]
  },
  {
   "cell_type": "code",
   "execution_count": 509,
   "id": "6b6b1fd2",
   "metadata": {},
   "outputs": [
    {
     "data": {
      "text/plain": [
       "np.int64(15)"
      ]
     },
     "execution_count": 509,
     "metadata": {},
     "output_type": "execute_result"
    }
   ],
   "source": [
    "#conocer datos duplicados \n",
    "df.duplicated().sum()"
   ]
  },
  {
   "cell_type": "code",
   "execution_count": 510,
   "id": "e1d40b08",
   "metadata": {},
   "outputs": [],
   "source": [
    "#eliminar datos duplicados\n",
    "df.drop_duplicates(inplace=True)"
   ]
  },
  {
   "cell_type": "code",
   "execution_count": 511,
   "id": "00e57b6b",
   "metadata": {},
   "outputs": [
    {
     "data": {
      "text/plain": [
       "np.int64(0)"
      ]
     },
     "execution_count": 511,
     "metadata": {},
     "output_type": "execute_result"
    }
   ],
   "source": [
    "#comprobar datos duplicados \n",
    "df.duplicated().sum()"
   ]
  },
  {
   "cell_type": "code",
   "execution_count": 512,
   "id": "051c010e",
   "metadata": {},
   "outputs": [
    {
     "data": {
      "text/plain": [
       "campaign_name      0\n",
       "start_date         1\n",
       "end_date           2\n",
       "budget             3\n",
       "roi                4\n",
       "type               1\n",
       "target_audience    2\n",
       "channel            1\n",
       "conversion_rate    4\n",
       "revenue            3\n",
       "dtype: int64"
      ]
     },
     "execution_count": 512,
     "metadata": {},
     "output_type": "execute_result"
    }
   ],
   "source": [
    "#conocer datos nulos\n",
    "df.isnull().sum()"
   ]
  },
  {
   "cell_type": "code",
   "execution_count": 513,
   "id": "3763e5ea",
   "metadata": {},
   "outputs": [
    {
     "data": {
      "text/plain": [
       "campaign_name      0.000000\n",
       "start_date         0.098328\n",
       "end_date           0.196657\n",
       "budget             0.294985\n",
       "roi                0.393314\n",
       "type               0.098328\n",
       "target_audience    0.196657\n",
       "channel            0.098328\n",
       "conversion_rate    0.393314\n",
       "revenue            0.294985\n",
       "dtype: float64"
      ]
     },
     "execution_count": 513,
     "metadata": {},
     "output_type": "execute_result"
    }
   ],
   "source": [
    "#calcular porcentaje datos nulos\n",
    "df.isnull().sum()/len(df)*100"
   ]
  },
  {
   "cell_type": "code",
   "execution_count": 514,
   "id": "e8fb5a56",
   "metadata": {},
   "outputs": [
    {
     "data": {
      "text/plain": [
       "<Axes: >"
      ]
     },
     "execution_count": 514,
     "metadata": {},
     "output_type": "execute_result"
    },
    {
     "data": {
      "image/png": "[encoded data removed]",
      "text/plain": [
       "<Figure size 1200x400 with 1 Axes>"
      ]
     },
     "metadata": {},
     "output_type": "display_data"
    }
   ],
   "source": [
    "#comprobar visualmente los datos nulos\n",
    "sns.heatmap(df.isnull(), cbar=False, cmap='viridis')"
   ]
  },
  {
   "cell_type": "markdown",
   "id": "63d0dad4",
   "metadata": {},
   "source": [
    "#### Eliminamos datos nulos"
   ]
  },
  {
   "cell_type": "code",
   "execution_count": 515,
   "id": "25bbe3a9",
   "metadata": {},
   "outputs": [],
   "source": [
    "df_limpio= df.copy()"
   ]
  },
  {
   "cell_type": "code",
   "execution_count": 516,
   "id": "183a247d",
   "metadata": {},
   "outputs": [],
   "source": [
    "#convertimos la columna budget a a float\n",
    "df_limpio['budget'] = pd.to_numeric(df_limpio['budget'], errors='coerce')"
   ]
  },
  {
   "cell_type": "code",
   "execution_count": 520,
   "id": "07081e9f",
   "metadata": {},
   "outputs": [
    {
     "name": "stderr",
     "output_type": "stream",
     "text": [
      "/var/folders/qj/w1prc6gn25l836z9b7mn6x940000gn/T/ipykernel_1068/185382134.py:1: FutureWarning: A value is trying to be set on a copy of a DataFrame or Series through chained assignment using an inplace method.\n",
      "The behavior will change in pandas 3.0. This inplace method will never work because the intermediate object on which we are setting values always behaves as a copy.\n",
      "\n",
      "For example, when doing 'df[col].method(value, inplace=True)', try using 'df.method({col: value}, inplace=True)' or df[col] = df[col].method(value) instead, to perform the operation inplace on the original object.\n",
      "\n",
      "\n",
      "  df_limpio['budget'].fillna(budget_mediana, inplace=True)\n"
     ]
    }
   ],
   "source": [
    "df_limpio['budget'].fillna(budget_mediana, inplace=True)\n"
   ]
  },
  {
   "cell_type": "code",
   "execution_count": 521,
   "id": "e42cb40c",
   "metadata": {},
   "outputs": [
    {
     "data": {
      "text/plain": [
       "np.int64(0)"
      ]
     },
     "execution_count": 521,
     "metadata": {},
     "output_type": "execute_result"
    }
   ],
   "source": [
    "#comprobamos\n",
    "df_limpio ['budget'].isnull().sum()"
   ]
  },
  {
   "cell_type": "code",
   "execution_count": 522,
   "id": "5e34fc9d",
   "metadata": {},
   "outputs": [],
   "source": [
    "#reemplazamos los valores nulos de la columna type por 'Unknown'\n",
    "df_limpio ['type'] = df_limpio['type'].fillna('Unknown')\n"
   ]
  },
  {
   "cell_type": "code",
   "execution_count": 523,
   "id": "4dc4e5fc",
   "metadata": {},
   "outputs": [
    {
     "data": {
      "text/plain": [
       "np.int64(0)"
      ]
     },
     "execution_count": 523,
     "metadata": {},
     "output_type": "execute_result"
    }
   ],
   "source": [
    "#comprobamos\n",
    "df_limpio ['type'].isnull().sum()"
   ]
  },
  {
   "cell_type": "code",
   "execution_count": 524,
   "id": "702362ba",
   "metadata": {},
   "outputs": [],
   "source": [
    "#hacemos lo mismo con channel y target_audience\n",
    "df_limpio ['channel'] = df_limpio['channel'].fillna('Unknown')\n",
    "df_limpio ['target_audience'] = df_limpio['target_audience'].fillna('Unknown')"
   ]
  },
  {
   "cell_type": "code",
   "execution_count": 525,
   "id": "d47c546d",
   "metadata": {},
   "outputs": [
    {
     "data": {
      "text/plain": [
       "np.int64(0)"
      ]
     },
     "execution_count": 525,
     "metadata": {},
     "output_type": "execute_result"
    }
   ],
   "source": [
    "#comprobamos\n",
    "df_limpio ['channel'].isnull().sum()\n"
   ]
  },
  {
   "cell_type": "code",
   "execution_count": 526,
   "id": "1309a6aa",
   "metadata": {},
   "outputs": [
    {
     "data": {
      "text/plain": [
       "np.int64(0)"
      ]
     },
     "execution_count": 526,
     "metadata": {},
     "output_type": "execute_result"
    }
   ],
   "source": [
    "df_limpio ['target_audience'].isnull().sum()"
   ]
  },
  {
   "cell_type": "code",
   "execution_count": 527,
   "id": "5998fb67",
   "metadata": {},
   "outputs": [],
   "source": [
    "df_limpio['roi'] = pd.to_numeric(df_limpio['roi'], errors='coerce')\n"
   ]
  },
  {
   "cell_type": "code",
   "execution_count": 528,
   "id": "e72ce82b",
   "metadata": {},
   "outputs": [],
   "source": [
    "df_limpio['roi'] = (df_limpio['revenue'] - df_limpio['budget']) / df_limpio['budget'] * 100"
   ]
  },
  {
   "cell_type": "code",
   "execution_count": 529,
   "id": "12bde942",
   "metadata": {},
   "outputs": [],
   "source": [
    "#redondeamos a 2 decimales\n",
    "df_limpio['roi'] = df_limpio['roi'].round(2)"
   ]
  },
  {
   "cell_type": "code",
   "execution_count": 531,
   "id": "40a93bb0",
   "metadata": {},
   "outputs": [
    {
     "data": {
      "text/plain": [
       "0       8679.60\n",
       "1       2816.56\n",
       "2        441.36\n",
       "3        516.59\n",
       "4         20.92\n",
       "         ...   \n",
       "1027        NaN\n",
       "1028     200.00\n",
       "1029       5.94\n",
       "1030      50.00\n",
       "1031     200.00\n",
       "Name: roi, Length: 1017, dtype: float64"
      ]
     },
     "execution_count": 531,
     "metadata": {},
     "output_type": "execute_result"
    }
   ],
   "source": [
    "#comprobamos la columna roi\n",
    "df_limpio['roi']"
   ]
  },
  {
   "cell_type": "code",
   "execution_count": 532,
   "id": "c483c2b7",
   "metadata": {},
   "outputs": [
    {
     "name": "stdout",
     "output_type": "stream",
     "text": [
      "Porcentaje de nulos después de la imputación:\n",
      "roi                0.0\n",
      "conversion_rate    0.0\n",
      "revenue            0.0\n",
      "dtype: float64\n"
     ]
    },
    {
     "data": {
      "text/html": [
       "<div>\n",
       "<style scoped>\n",
       "    .dataframe tbody tr th:only-of-type {\n",
       "        vertical-align: middle;\n",
       "    }\n",
       "\n",
       "    .dataframe tbody tr th {\n",
       "        vertical-align: top;\n",
       "    }\n",
       "\n",
       "    .dataframe thead th {\n",
       "        text-align: right;\n",
       "    }\n",
       "</style>\n",
       "<table border=\"1\" class=\"dataframe\">\n",
       "  <thead>\n",
       "    <tr style=\"text-align: right;\">\n",
       "      <th></th>\n",
       "      <th>roi</th>\n",
       "      <th>conversion_rate</th>\n",
       "      <th>revenue</th>\n",
       "    </tr>\n",
       "  </thead>\n",
       "  <tbody>\n",
       "    <tr>\n",
       "      <th>0</th>\n",
       "      <td>8679.60</td>\n",
       "      <td>0.40</td>\n",
       "      <td>709593.48</td>\n",
       "    </tr>\n",
       "    <tr>\n",
       "      <th>1</th>\n",
       "      <td>2816.56</td>\n",
       "      <td>0.66</td>\n",
       "      <td>516609.10</td>\n",
       "    </tr>\n",
       "    <tr>\n",
       "      <th>2</th>\n",
       "      <td>441.36</td>\n",
       "      <td>0.28</td>\n",
       "      <td>458227.42</td>\n",
       "    </tr>\n",
       "    <tr>\n",
       "      <th>3</th>\n",
       "      <td>516.59</td>\n",
       "      <td>0.19</td>\n",
       "      <td>89958.73</td>\n",
       "    </tr>\n",
       "    <tr>\n",
       "      <th>4</th>\n",
       "      <td>20.92</td>\n",
       "      <td>0.81</td>\n",
       "      <td>47511.35</td>\n",
       "    </tr>\n",
       "  </tbody>\n",
       "</table>\n",
       "</div>"
      ],
      "text/plain": [
       "       roi  conversion_rate    revenue\n",
       "0  8679.60             0.40  709593.48\n",
       "1  2816.56             0.66  516609.10\n",
       "2   441.36             0.28  458227.42\n",
       "3   516.59             0.19   89958.73\n",
       "4    20.92             0.81   47511.35"
      ]
     },
     "execution_count": 532,
     "metadata": {},
     "output_type": "execute_result"
    }
   ],
   "source": [
    "#recurrimos al método KNN para ser más precisos en la imputación de los valores nulos en las columnas roi, conversion_rate y revenue\n",
    "from sklearn.impute import KNNImputer\n",
    "\n",
    "# Columnas que necesitas imputación\n",
    "numerical_columns = ['roi', 'conversion_rate', 'revenue']\n",
    "\n",
    "# Crear KNN imputer\n",
    "imputer = KNNImputer(n_neighbors=5)\n",
    "\n",
    "# Trasnformación\n",
    "df_limpio[numerical_columns] = imputer.fit_transform(df_limpio[numerical_columns])\n",
    "\n",
    "# Comprobación\n",
    "print(\"Porcentaje de nulos después de la imputación:\")\n",
    "print(df_limpio[numerical_columns].isnull().sum() / df_limpio.shape[0] * 100)\n",
    "\n",
    "# Mostrar los datos\n",
    "df_limpio[numerical_columns].head()"
   ]
  },
  {
   "cell_type": "code",
   "execution_count": 533,
   "id": "eec31595",
   "metadata": {},
   "outputs": [
    {
     "data": {
      "text/plain": [
       "campaign_name      0.000000\n",
       "start_date         0.098328\n",
       "end_date           0.196657\n",
       "budget             0.000000\n",
       "roi                0.000000\n",
       "type               0.000000\n",
       "target_audience    0.000000\n",
       "channel            0.000000\n",
       "conversion_rate    0.000000\n",
       "revenue            0.000000\n",
       "dtype: float64"
      ]
     },
     "execution_count": 533,
     "metadata": {},
     "output_type": "execute_result"
    }
   ],
   "source": [
    "#comprobamos el estado de nuestros datos nulos\n",
    "df_limpio.isnull().sum()/len(df_limpio)*100"
   ]
  },
  {
   "cell_type": "code",
   "execution_count": 534,
   "id": "bc87bb2f",
   "metadata": {},
   "outputs": [
    {
     "data": {
      "text/html": [
       "<div>\n",
       "<style scoped>\n",
       "    .dataframe tbody tr th:only-of-type {\n",
       "        vertical-align: middle;\n",
       "    }\n",
       "\n",
       "    .dataframe tbody tr th {\n",
       "        vertical-align: top;\n",
       "    }\n",
       "\n",
       "    .dataframe thead th {\n",
       "        text-align: right;\n",
       "    }\n",
       "</style>\n",
       "<table border=\"1\" class=\"dataframe\">\n",
       "  <thead>\n",
       "    <tr style=\"text-align: right;\">\n",
       "      <th></th>\n",
       "      <th>campaign_name</th>\n",
       "      <th>start_date</th>\n",
       "      <th>end_date</th>\n",
       "      <th>budget</th>\n",
       "      <th>roi</th>\n",
       "      <th>type</th>\n",
       "      <th>target_audience</th>\n",
       "      <th>channel</th>\n",
       "      <th>conversion_rate</th>\n",
       "      <th>revenue</th>\n",
       "    </tr>\n",
       "  </thead>\n",
       "  <tbody>\n",
       "    <tr>\n",
       "      <th>0</th>\n",
       "      <td>Public-key multi-tasking throughput</td>\n",
       "      <td>2023-04-01</td>\n",
       "      <td>2024-02-23</td>\n",
       "      <td>8082.30</td>\n",
       "      <td>8679.60</td>\n",
       "      <td>email</td>\n",
       "      <td>B2B</td>\n",
       "      <td>organic</td>\n",
       "      <td>0.40</td>\n",
       "      <td>709593.48</td>\n",
       "    </tr>\n",
       "    <tr>\n",
       "      <th>1</th>\n",
       "      <td>De-engineered analyzing task-force</td>\n",
       "      <td>2023-02-15</td>\n",
       "      <td>2024-04-22</td>\n",
       "      <td>17712.98</td>\n",
       "      <td>2816.56</td>\n",
       "      <td>email</td>\n",
       "      <td>B2C</td>\n",
       "      <td>promotion</td>\n",
       "      <td>0.66</td>\n",
       "      <td>516609.10</td>\n",
       "    </tr>\n",
       "  </tbody>\n",
       "</table>\n",
       "</div>"
      ],
      "text/plain": [
       "                         campaign_name  start_date    end_date    budget  \\\n",
       "0  Public-key multi-tasking throughput  2023-04-01  2024-02-23   8082.30   \n",
       "1   De-engineered analyzing task-force  2023-02-15  2024-04-22  17712.98   \n",
       "\n",
       "       roi   type target_audience    channel  conversion_rate    revenue  \n",
       "0  8679.60  email             B2B    organic             0.40  709593.48  \n",
       "1  2816.56  email             B2C  promotion             0.66  516609.10  "
      ]
     },
     "execution_count": 534,
     "metadata": {},
     "output_type": "execute_result"
    }
   ],
   "source": [
    "df_limpio.head(2)"
   ]
  },
  {
   "cell_type": "code",
   "execution_count": 535,
   "id": "a63db686",
   "metadata": {},
   "outputs": [],
   "source": [
    "# Conversión de fechas a datetime\n",
    "df_limpio['start_date'] = pd.to_datetime(df_limpio['start_date'], errors='coerce', utc=True)\n",
    "df_limpio['end_date'] = pd.to_datetime(df_limpio['end_date'],   errors='coerce', utc=True)\n"
   ]
  },
  {
   "cell_type": "code",
   "execution_count": 536,
   "id": "3b05fc3e",
   "metadata": {},
   "outputs": [
    {
     "name": "stdout",
     "output_type": "stream",
     "text": [
      "Mediana de duración: 364 días\n"
     ]
    },
    {
     "name": "stderr",
     "output_type": "stream",
     "text": [
      "/var/folders/qj/w1prc6gn25l836z9b7mn6x940000gn/T/ipykernel_1068/4014609017.py:6: FutureWarning: A value is trying to be set on a copy of a DataFrame or Series through chained assignment using an inplace method.\n",
      "The behavior will change in pandas 3.0. This inplace method will never work because the intermediate object on which we are setting values always behaves as a copy.\n",
      "\n",
      "For example, when doing 'df[col].method(value, inplace=True)', try using 'df.method({col: value}, inplace=True)' or df[col] = df[col].method(value) instead, to perform the operation inplace on the original object.\n",
      "\n",
      "\n",
      "  df_limpio['start_date'].fillna(df_limpio['end_date'] - pd.Timedelta(days=median_dur), inplace=True)\n"
     ]
    }
   ],
   "source": [
    "# Calcular duration_days temporalmente para obtener la mediana\n",
    "temp_duration = (df_limpio['end_date'] - df_limpio['start_date']).dt.days\n",
    "median_dur = int(temp_duration.median())\n",
    "\n",
    "# Rellenar valores faltantes en start_date con una fecha calculada\n",
    "df_limpio['start_date'].fillna(df_limpio['end_date'] - pd.Timedelta(days=median_dur), inplace=True)\n",
    "\n",
    "# Ahora calcular la duración en días\n",
    "df_limpio['duration_days'] = (df_limpio['end_date'] - df_limpio['start_date']).dt.days\n",
    "print(f\"Mediana de duración: {median_dur} días\")\n",
    "\n"
   ]
  },
  {
   "cell_type": "code",
   "execution_count": 537,
   "id": "dfc3521d",
   "metadata": {},
   "outputs": [],
   "source": [
    "# 3) Imputar start_date faltantes (pero sí tienen end_date)\n",
    "mask_start_missing = df_limpio['start_date'].isna() & df_limpio['end_date'].notna()\n",
    "df.loc[mask_start_missing, 'start_date'] = (\n",
    "    df.loc[mask_start_missing, 'end_date'] - pd.Timedelta(days=median_dur)\n",
    ")\n",
    "\n",
    "# 4) Imputar end_date faltantes (pero sí tienen start_date)\n",
    "mask_end_missing = df_limpio['end_date'].isna() & df['start_date'].notna()\n",
    "df_limpio.loc[mask_end_missing, 'end_date'] = (\n",
    "    df_limpio.loc[mask_end_missing, 'start_date'] + pd.Timedelta(days=median_dur)\n",
    ")\n",
    "\n",
    "# 5) Imputar ambas fechas para “Typo in Date”\n",
    "min_start = df_limpio['start_date'].min()  # la fecha más antigua tras imputación previa\n",
    "mask_typo = df_limpio['campaign_name'] == \"Typo in Date\"\n",
    "df_limpio.loc[mask_typo, 'start_date'] = min_start\n",
    "df_limpio.loc[mask_typo, 'end_date']   = min_start + pd.Timedelta(days=median_dur)"
   ]
  },
  {
   "cell_type": "code",
   "execution_count": 538,
   "id": "79c2fa8f",
   "metadata": {},
   "outputs": [
    {
     "data": {
      "text/plain": [
       "campaign_name      0.000000\n",
       "start_date         0.000000\n",
       "end_date           0.000000\n",
       "budget             0.000000\n",
       "roi                0.000000\n",
       "type               0.000000\n",
       "target_audience    0.000000\n",
       "channel            0.000000\n",
       "conversion_rate    0.000000\n",
       "revenue            0.000000\n",
       "duration_days      0.294985\n",
       "dtype: float64"
      ]
     },
     "execution_count": 538,
     "metadata": {},
     "output_type": "execute_result"
    }
   ],
   "source": [
    "#comprobamos el estado de nuestros datos nulos\n",
    "df_limpio.isnull().sum()/len(df_limpio)*100"
   ]
  },
  {
   "cell_type": "code",
   "execution_count": 539,
   "id": "689a4418",
   "metadata": {},
   "outputs": [],
   "source": [
    "df['start_date'] = pd.to_datetime(df['start_date'], errors='coerce', utc=True)\n",
    "df['end_date'] = pd.to_datetime(df['end_date'], errors='coerce', utc=True)\n",
    "df['duration_days'] = (df['end_date'] - df['start_date']).dt.days"
   ]
  },
  {
   "cell_type": "code",
   "execution_count": 540,
   "id": "419c75e7",
   "metadata": {},
   "outputs": [
    {
     "name": "stdout",
     "output_type": "stream",
     "text": [
      "3\n"
     ]
    }
   ],
   "source": [
    "# Verificar que no queden valores nulos en 'duration_days'\n",
    "print(df_limpio['duration_days'].isnull().sum())"
   ]
  },
  {
   "cell_type": "code",
   "execution_count": 541,
   "id": "ee869218",
   "metadata": {},
   "outputs": [],
   "source": [
    "#reemplazamos los valores nulos de la columna duration-days por 'Sin Datos'\n",
    "df_limpio ['duration_days'] = df_limpio['duration_days'].fillna('Sin Datos')"
   ]
  },
  {
   "cell_type": "code",
   "execution_count": 542,
   "id": "11096cc9",
   "metadata": {},
   "outputs": [
    {
     "data": {
      "text/plain": [
       "campaign_name      0.0\n",
       "start_date         0.0\n",
       "end_date           0.0\n",
       "budget             0.0\n",
       "roi                0.0\n",
       "type               0.0\n",
       "target_audience    0.0\n",
       "channel            0.0\n",
       "conversion_rate    0.0\n",
       "revenue            0.0\n",
       "duration_days      0.0\n",
       "dtype: float64"
      ]
     },
     "execution_count": 542,
     "metadata": {},
     "output_type": "execute_result"
    }
   ],
   "source": [
    "#comprobamos el estado de nuestros datos nulos\n",
    "df_limpio.isnull().sum()/len(df_limpio)*100\n",
    "# ...existing code..."
   ]
  },
  {
   "cell_type": "code",
   "execution_count": 543,
   "id": "dcb2f48f",
   "metadata": {},
   "outputs": [
    {
     "data": {
      "text/plain": [
       "np.int64(0)"
      ]
     },
     "execution_count": 543,
     "metadata": {},
     "output_type": "execute_result"
    }
   ],
   "source": [
    "#comprobamos si existen valores nulos en la nueva columna roi\n",
    "df_limpio['roi'].isnull().sum()"
   ]
  },
  {
   "cell_type": "markdown",
   "id": "3bc1a306",
   "metadata": {},
   "source": [
    "#### Comprobamos errores en el texto y reemplazamos"
   ]
  },
  {
   "cell_type": "code",
   "execution_count": 544,
   "id": "62b3f161",
   "metadata": {},
   "outputs": [
    {
     "name": "stdout",
     "output_type": "stream",
     "text": [
      "['email' 'podcast' 'webinar' 'social media' 'Unknown' 'event' 'B2B']\n"
     ]
    }
   ],
   "source": [
    "# Comprobar los valores únicos en la columna 'type'\n",
    "print(df_limpio['type'].unique())"
   ]
  },
  {
   "cell_type": "code",
   "execution_count": 545,
   "id": "f68cc24c",
   "metadata": {},
   "outputs": [],
   "source": [
    "#reemplazar las filas que contengan 'referral' por 'referral'\n",
    "df_limpio['channel'] = df_limpio['channel'].replace('referral', 'Referral')"
   ]
  },
  {
   "cell_type": "code",
   "execution_count": 546,
   "id": "6f5989f4",
   "metadata": {},
   "outputs": [
    {
     "name": "stdout",
     "output_type": "stream",
     "text": [
      "['organic' 'promotion' 'paid' 'Referral' 'Unknown']\n"
     ]
    }
   ],
   "source": [
    "# Comprobar los valores únicos en la columna 'channel'\n",
    "print(df_limpio['channel'].unique())"
   ]
  },
  {
   "cell_type": "code",
   "execution_count": 547,
   "id": "268f2e4b",
   "metadata": {},
   "outputs": [
    {
     "name": "stdout",
     "output_type": "stream",
     "text": [
      "['B2B' 'B2C' 'social media' 'Unknown']\n"
     ]
    }
   ],
   "source": [
    "# Comprobar los valores únicos en la columna 'target_audience'\n",
    "print(df_limpio['target_audience'].unique())"
   ]
  },
  {
   "cell_type": "code",
   "execution_count": 548,
   "id": "eb852ac6",
   "metadata": {},
   "outputs": [],
   "source": [
    "#reemplazar las filas que contengan errores tipograficos\n",
    "df_limpio['target_audience'] = df_limpio['target_audience'].replace('b2b', 'B2B')\n",
    "df_limpio['target_audience'] = df_limpio['target_audience'].replace('b2c', 'B2C')"
   ]
  },
  {
   "cell_type": "code",
   "execution_count": 549,
   "id": "8603083d",
   "metadata": {},
   "outputs": [],
   "source": [
    "#Sustuir los valores 'social media' de la columna target_audience por 'Unknown'ArithmeticError\n",
    "df_limpio['target_audience'] = df_limpio['target_audience'].replace('social media', 'Unknown')"
   ]
  },
  {
   "cell_type": "code",
   "execution_count": 463,
   "id": "736862ad",
   "metadata": {},
   "outputs": [
    {
     "name": "stdout",
     "output_type": "stream",
     "text": [
      "['B2B' 'B2C' 'Unknown']\n"
     ]
    }
   ],
   "source": [
    "# Comprobar los valores únicos en la columna 'target_audience'\n",
    "print(df_limpio['target_audience'].unique())"
   ]
  },
  {
   "cell_type": "markdown",
   "id": "5c5640ad",
   "metadata": {},
   "source": [
    "#### Crear una nueva columna con el beneficio neto"
   ]
  },
  {
   "cell_type": "code",
   "execution_count": 550,
   "id": "872a6a89",
   "metadata": {},
   "outputs": [],
   "source": [
    "df_limpio['beneficio_neto'] = df_limpio['revenue'] - df_limpio['budget']"
   ]
  },
  {
   "cell_type": "code",
   "execution_count": 551,
   "id": "c20c4281",
   "metadata": {},
   "outputs": [
    {
     "data": {
      "text/html": [
       "<div>\n",
       "<style scoped>\n",
       "    .dataframe tbody tr th:only-of-type {\n",
       "        vertical-align: middle;\n",
       "    }\n",
       "\n",
       "    .dataframe tbody tr th {\n",
       "        vertical-align: top;\n",
       "    }\n",
       "\n",
       "    .dataframe thead th {\n",
       "        text-align: right;\n",
       "    }\n",
       "</style>\n",
       "<table border=\"1\" class=\"dataframe\">\n",
       "  <thead>\n",
       "    <tr style=\"text-align: right;\">\n",
       "      <th></th>\n",
       "      <th>campaign_name</th>\n",
       "      <th>start_date</th>\n",
       "      <th>end_date</th>\n",
       "      <th>budget</th>\n",
       "      <th>roi</th>\n",
       "      <th>type</th>\n",
       "      <th>target_audience</th>\n",
       "      <th>channel</th>\n",
       "      <th>conversion_rate</th>\n",
       "      <th>revenue</th>\n",
       "      <th>duration_days</th>\n",
       "      <th>beneficio_neto</th>\n",
       "    </tr>\n",
       "  </thead>\n",
       "  <tbody>\n",
       "    <tr>\n",
       "      <th>0</th>\n",
       "      <td>Public-key multi-tasking throughput</td>\n",
       "      <td>2023-04-01 00:00:00+00:00</td>\n",
       "      <td>2024-02-23 00:00:00+00:00</td>\n",
       "      <td>8082.30</td>\n",
       "      <td>8679.600</td>\n",
       "      <td>email</td>\n",
       "      <td>B2B</td>\n",
       "      <td>organic</td>\n",
       "      <td>0.400</td>\n",
       "      <td>709593.480</td>\n",
       "      <td>328.0</td>\n",
       "      <td>701511.180</td>\n",
       "    </tr>\n",
       "    <tr>\n",
       "      <th>1</th>\n",
       "      <td>De-engineered analyzing task-force</td>\n",
       "      <td>2023-02-15 00:00:00+00:00</td>\n",
       "      <td>2024-04-22 00:00:00+00:00</td>\n",
       "      <td>17712.98</td>\n",
       "      <td>2816.560</td>\n",
       "      <td>email</td>\n",
       "      <td>B2C</td>\n",
       "      <td>promotion</td>\n",
       "      <td>0.660</td>\n",
       "      <td>516609.100</td>\n",
       "      <td>432.0</td>\n",
       "      <td>498896.120</td>\n",
       "    </tr>\n",
       "    <tr>\n",
       "      <th>2</th>\n",
       "      <td>Balanced solution-oriented Local Area Network</td>\n",
       "      <td>2022-12-20 00:00:00+00:00</td>\n",
       "      <td>2023-10-11 00:00:00+00:00</td>\n",
       "      <td>84643.10</td>\n",
       "      <td>441.360</td>\n",
       "      <td>podcast</td>\n",
       "      <td>B2B</td>\n",
       "      <td>paid</td>\n",
       "      <td>0.280</td>\n",
       "      <td>458227.420</td>\n",
       "      <td>295.0</td>\n",
       "      <td>373584.320</td>\n",
       "    </tr>\n",
       "    <tr>\n",
       "      <th>3</th>\n",
       "      <td>Distributed real-time methodology</td>\n",
       "      <td>2022-09-26 00:00:00+00:00</td>\n",
       "      <td>2023-09-27 00:00:00+00:00</td>\n",
       "      <td>14589.75</td>\n",
       "      <td>516.590</td>\n",
       "      <td>webinar</td>\n",
       "      <td>B2B</td>\n",
       "      <td>organic</td>\n",
       "      <td>0.190</td>\n",
       "      <td>89958.730</td>\n",
       "      <td>366.0</td>\n",
       "      <td>75368.980</td>\n",
       "    </tr>\n",
       "    <tr>\n",
       "      <th>4</th>\n",
       "      <td>Front-line executive infrastructure</td>\n",
       "      <td>2023-07-07 00:00:00+00:00</td>\n",
       "      <td>2024-05-15 00:00:00+00:00</td>\n",
       "      <td>39291.90</td>\n",
       "      <td>20.920</td>\n",
       "      <td>social media</td>\n",
       "      <td>B2B</td>\n",
       "      <td>promotion</td>\n",
       "      <td>0.810</td>\n",
       "      <td>47511.350</td>\n",
       "      <td>313.0</td>\n",
       "      <td>8219.450</td>\n",
       "    </tr>\n",
       "    <tr>\n",
       "      <th>...</th>\n",
       "      <td>...</td>\n",
       "      <td>...</td>\n",
       "      <td>...</td>\n",
       "      <td>...</td>\n",
       "      <td>...</td>\n",
       "      <td>...</td>\n",
       "      <td>...</td>\n",
       "      <td>...</td>\n",
       "      <td>...</td>\n",
       "      <td>...</td>\n",
       "      <td>...</td>\n",
       "      <td>...</td>\n",
       "    </tr>\n",
       "    <tr>\n",
       "      <th>1027</th>\n",
       "      <td>No revenue campaign</td>\n",
       "      <td>2023-02-01 00:00:00+00:00</td>\n",
       "      <td>2023-08-01 00:00:00+00:00</td>\n",
       "      <td>20000.00</td>\n",
       "      <td>1496.578</td>\n",
       "      <td>social media</td>\n",
       "      <td>B2B</td>\n",
       "      <td>organic</td>\n",
       "      <td>0.500</td>\n",
       "      <td>460447.588</td>\n",
       "      <td>181.0</td>\n",
       "      <td>440447.588</td>\n",
       "    </tr>\n",
       "    <tr>\n",
       "      <th>1028</th>\n",
       "      <td>Random mess</td>\n",
       "      <td>2023-06-06 00:00:00+00:00</td>\n",
       "      <td>2024-06-04 00:00:00+00:00</td>\n",
       "      <td>100000.00</td>\n",
       "      <td>200.000</td>\n",
       "      <td>podcast</td>\n",
       "      <td>Unknown</td>\n",
       "      <td>Referral</td>\n",
       "      <td>0.596</td>\n",
       "      <td>300000.000</td>\n",
       "      <td>Sin Datos</td>\n",
       "      <td>200000.000</td>\n",
       "    </tr>\n",
       "    <tr>\n",
       "      <th>1029</th>\n",
       "      <td>Invalid budget</td>\n",
       "      <td>2022-12-01 00:00:00+00:00</td>\n",
       "      <td>2023-06-01 00:00:00+00:00</td>\n",
       "      <td>47198.52</td>\n",
       "      <td>5.940</td>\n",
       "      <td>email</td>\n",
       "      <td>B2C</td>\n",
       "      <td>promotion</td>\n",
       "      <td>0.200</td>\n",
       "      <td>50000.000</td>\n",
       "      <td>182.0</td>\n",
       "      <td>2801.480</td>\n",
       "    </tr>\n",
       "    <tr>\n",
       "      <th>1030</th>\n",
       "      <td>Overlapping dates</td>\n",
       "      <td>2023-03-01 00:00:00+00:00</td>\n",
       "      <td>2022-12-31 00:00:00+00:00</td>\n",
       "      <td>60000.00</td>\n",
       "      <td>50.000</td>\n",
       "      <td>webinar</td>\n",
       "      <td>B2B</td>\n",
       "      <td>paid</td>\n",
       "      <td>0.700</td>\n",
       "      <td>90000.000</td>\n",
       "      <td>-60.0</td>\n",
       "      <td>30000.000</td>\n",
       "    </tr>\n",
       "    <tr>\n",
       "      <th>1031</th>\n",
       "      <td>Too many conversions</td>\n",
       "      <td>2023-05-01 00:00:00+00:00</td>\n",
       "      <td>2023-11-01 00:00:00+00:00</td>\n",
       "      <td>40000.00</td>\n",
       "      <td>200.000</td>\n",
       "      <td>social media</td>\n",
       "      <td>B2C</td>\n",
       "      <td>organic</td>\n",
       "      <td>1.500</td>\n",
       "      <td>120000.000</td>\n",
       "      <td>184.0</td>\n",
       "      <td>80000.000</td>\n",
       "    </tr>\n",
       "  </tbody>\n",
       "</table>\n",
       "<p>1017 rows × 12 columns</p>\n",
       "</div>"
      ],
      "text/plain": [
       "                                      campaign_name                start_date  \\\n",
       "0               Public-key multi-tasking throughput 2023-04-01 00:00:00+00:00   \n",
       "1                De-engineered analyzing task-force 2023-02-15 00:00:00+00:00   \n",
       "2     Balanced solution-oriented Local Area Network 2022-12-20 00:00:00+00:00   \n",
       "3                 Distributed real-time methodology 2022-09-26 00:00:00+00:00   \n",
       "4               Front-line executive infrastructure 2023-07-07 00:00:00+00:00   \n",
       "...                                             ...                       ...   \n",
       "1027                            No revenue campaign 2023-02-01 00:00:00+00:00   \n",
       "1028                                    Random mess 2023-06-06 00:00:00+00:00   \n",
       "1029                                 Invalid budget 2022-12-01 00:00:00+00:00   \n",
       "1030                              Overlapping dates 2023-03-01 00:00:00+00:00   \n",
       "1031                           Too many conversions 2023-05-01 00:00:00+00:00   \n",
       "\n",
       "                      end_date     budget       roi          type  \\\n",
       "0    2024-02-23 00:00:00+00:00    8082.30  8679.600         email   \n",
       "1    2024-04-22 00:00:00+00:00   17712.98  2816.560         email   \n",
       "2    2023-10-11 00:00:00+00:00   84643.10   441.360       podcast   \n",
       "3    2023-09-27 00:00:00+00:00   14589.75   516.590       webinar   \n",
       "4    2024-05-15 00:00:00+00:00   39291.90    20.920  social media   \n",
       "...                        ...        ...       ...           ...   \n",
       "1027 2023-08-01 00:00:00+00:00   20000.00  1496.578  social media   \n",
       "1028 2024-06-04 00:00:00+00:00  100000.00   200.000       podcast   \n",
       "1029 2023-06-01 00:00:00+00:00   47198.52     5.940         email   \n",
       "1030 2022-12-31 00:00:00+00:00   60000.00    50.000       webinar   \n",
       "1031 2023-11-01 00:00:00+00:00   40000.00   200.000  social media   \n",
       "\n",
       "     target_audience    channel  conversion_rate     revenue duration_days  \\\n",
       "0                B2B    organic            0.400  709593.480         328.0   \n",
       "1                B2C  promotion            0.660  516609.100         432.0   \n",
       "2                B2B       paid            0.280  458227.420         295.0   \n",
       "3                B2B    organic            0.190   89958.730         366.0   \n",
       "4                B2B  promotion            0.810   47511.350         313.0   \n",
       "...              ...        ...              ...         ...           ...   \n",
       "1027             B2B    organic            0.500  460447.588         181.0   \n",
       "1028         Unknown   Referral            0.596  300000.000     Sin Datos   \n",
       "1029             B2C  promotion            0.200   50000.000         182.0   \n",
       "1030             B2B       paid            0.700   90000.000         -60.0   \n",
       "1031             B2C    organic            1.500  120000.000         184.0   \n",
       "\n",
       "      beneficio_neto  \n",
       "0         701511.180  \n",
       "1         498896.120  \n",
       "2         373584.320  \n",
       "3          75368.980  \n",
       "4           8219.450  \n",
       "...              ...  \n",
       "1027      440447.588  \n",
       "1028      200000.000  \n",
       "1029        2801.480  \n",
       "1030       30000.000  \n",
       "1031       80000.000  \n",
       "\n",
       "[1017 rows x 12 columns]"
      ]
     },
     "execution_count": 551,
     "metadata": {},
     "output_type": "execute_result"
    }
   ],
   "source": [
    "df_limpio"
   ]
  },
  {
   "cell_type": "markdown",
   "id": "1728159e",
   "metadata": {},
   "source": [
    "#### Solucionar outliers de valores numéricos"
   ]
  },
  {
   "cell_type": "code",
   "execution_count": 554,
   "id": "30189195",
   "metadata": {},
   "outputs": [],
   "source": [
    "pd.set_option(\"display.max_columns\",None) \n",
    "pd.set_option(\"display.max_rows\",None) \n",
    "\n",
    "import warnings\n",
    "warnings.filterwarnings(\"ignore\")\n",
    "\n",
    "from IPython.display import Image\n",
    "from sklearn.preprocessing import StandardScaler\n",
    "from sklearn.cluster import DBSCAN\n",
    "from sklearn.neighbors import LocalOutlierFactor\n",
    "sns.set(style=\"darkgrid\", palette=\"pastel\", color_codes=True)\n",
    "sns.set_context('talk')\n",
    "\n",
    "from pathlib import Path\n",
    "data_dir = Path('../input/images')"
   ]
  },
  {
   "cell_type": "code",
   "execution_count": 555,
   "id": "407e0b4e",
   "metadata": {},
   "outputs": [
    {
     "name": "stdout",
     "output_type": "stream",
     "text": [
      "Filas con presupuesto negativo:\n",
      "Empty DataFrame\n",
      "Columns: [campaign_name, start_date, end_date, budget, roi, type, target_audience, channel, conversion_rate, revenue, duration_days, beneficio_neto]\n",
      "Index: []\n",
      "\n",
      "Valores mínimos de presupuesto después de la corrección:\n",
      "0.0\n"
     ]
    }
   ],
   "source": [
    "# Identificar filas con budget negativo\n",
    "presupuestos_negativos = df_limpio[df_limpio['budget'] < 0]\n",
    "print(\"Filas con presupuesto negativo:\")\n",
    "print(presupuestos_negativos)\n",
    "\n",
    "# Reemplazar los valores negativos con 0\n",
    "df_limpio['budget'] = df_limpio['budget'].apply(lambda x: max(x, 0))\n",
    "\n",
    "# Verificar que no queden valores negativos\n",
    "print(\"\\nValores mínimos de presupuesto después de la corrección:\")\n",
    "print(df_limpio['budget'].min())\n"
   ]
  },
  {
   "cell_type": "code",
   "execution_count": 557,
   "id": "4e72fdb3",
   "metadata": {},
   "outputs": [
    {
     "data": {
      "application/vnd.plotly.v1+json": {
       "config": {
        "plotlyServerURL": "https://plot.ly"
       },
       "data": [
        {
         "marker": {
          "color": "#ADD8E6"
         },
         "name": "Revenue",
         "type": "box",
         "xaxis": "x",
         "y": {
          "bdata": "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",
          "dtype": "f8"
         },
         "yaxis": "y"
        },
        {
         "marker": {
          "color": "#87CEEB"
         },
         "name": "ROI",
         "type": "box",
         "xaxis": "x2",
         "y": {
          "bdata": "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",
          "dtype": "f8"
         },
         "yaxis": "y2"
        },
        {
         "marker": {
          "color": "#4682B4"
         },
         "name": "Conversion Rate",
         "type": "box",
         "xaxis": "x3",
         "y": {
          "bdata": "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",
          "dtype": "f8"
         },
         "yaxis": "y3"
        },
        {
         "marker": {
          "color": "#191970"
         },
         "name": "budget",
         "type": "box",
         "xaxis": "x4",
         "y": [
          "8082.3",
          "17712.98",
          "84643.1",
          "14589.75",
          "39291.9",
          "75569.28",
          "28964.45",
          "36800.58",
          "40493.88",
          "1816.22",
          "94084.21",
          "64041.37",
          "49375.81",
          "14810.62",
          "36848.3",
          "21510.43",
          "99520.93",
          "19213.46",
          "17573.23",
          "25396.4",
          "34644.22",
          "60274.59",
          "79680.62",
          "46775.63",
          "48366.5",
          "84973.4",
          "37344.7",
          "14391.98",
          "99838.63",
          "29076.12",
          "87963.28",
          "53935.8",
          "71277.1",
          "15968.2",
          "54468.41",
          "29393.78",
          "9147.79",
          "68801.22",
          "1309.17",
          "27168.6",
          "39682.9",
          "89227.7",
          "96917.97",
          "28323.41",
          "63656.18",
          "69084.1",
          "65447.41",
          "20328.53",
          "8041.9",
          "19030.69",
          "6124.7",
          "11271.19",
          "28203.84",
          "99957.15",
          "27675.42",
          "12480.75",
          "84119.33",
          "6658.22",
          "53826.21",
          "85125.0",
          "79220.8",
          "46560.5",
          "56850.62",
          "94856.15",
          "93383.63",
          "26183.57",
          "99128.36",
          "80647.64",
          "30883.42",
          "24998.61",
          "64119.81",
          "60594.85",
          "22411.36",
          "47906.32",
          "28548.76",
          "44251.43",
          "32895.11",
          "55985.9",
          "23212.27",
          "42051.6",
          "79829.52",
          "96169.66",
          "72722.22",
          "52125.2",
          "77340.13",
          "97763.51",
          "15463.29",
          "51210.38",
          "16066.41",
          "89383.19",
          "46558.0",
          "62178.3",
          "20201.5",
          "43643.99",
          "20647.17",
          "29781.93",
          "89003.41",
          "34838.17",
          "8209.8",
          "13024.35",
          "9180.95",
          "46215.77",
          "80474.62",
          "12789.78",
          "42818.39",
          "77090.58",
          "10659.15",
          "71211.28",
          "55105.95",
          "22701.3",
          "28460.11",
          "81474.69",
          "99406.41",
          "89764.52",
          "11769.71",
          "44085.8",
          "31712.22",
          "34455.95",
          "31468.43",
          "89740.86",
          "6806.2",
          "21795.27",
          "29328.34",
          "7632.49",
          "46890.76",
          "81853.53",
          "46635.4",
          "31531.6",
          "51428.64",
          "83726.63",
          "85417.27",
          "44082.14",
          "61946.3",
          "50168.89",
          "54331.15",
          "72529.72",
          "40881.17",
          "68885.7",
          "48358.0",
          "98289.74",
          "4016.62",
          "41419.79",
          "52686.92",
          "16420.77",
          "46976.52",
          "91122.63",
          "4855.98",
          "54503.83",
          "12098.23",
          "14419.22",
          "59892.4",
          "5197.61",
          "6310.87",
          "80612.13",
          "80358.87",
          "73855.23",
          "63911.62",
          "50124.39",
          "38086.24",
          "48046.33",
          "63808.2",
          "26057.53",
          "56381.6",
          "57815.1",
          "75262.37",
          "43226.59",
          "84506.27",
          "36457.88",
          "10038.96",
          "27079.85",
          "34512.86",
          "16063.49",
          "61343.2",
          "39585.98",
          "99535.21",
          "44466.83",
          "70841.82",
          "62752.63",
          "97748.2",
          "67048.32",
          "34303.92",
          "52871.17",
          "53678.65",
          "21921.72",
          "98706.34",
          "16290.7",
          "24936.91",
          "20401.62",
          "33675.46",
          "87618.4",
          "33524.69",
          "86623.59",
          "8473.58",
          "20951.3",
          "36331.8",
          "19401.94",
          "59532.42",
          "98089.92",
          "16308.37",
          "36824.24",
          "62406.71",
          "96713.47",
          "91490.92",
          "12246.32",
          "29724.33",
          "32343.79",
          "59590.26",
          "77582.36",
          "23477.6",
          "9666.13",
          "63938.71",
          "44248.38",
          "97083.41",
          "18706.92",
          "92742.9",
          "14418.29",
          "55644.28",
          "49973.41",
          "52495.87",
          "22905.15",
          "70871.65",
          "91280.14",
          "43142.37",
          "90807.23",
          "32622.8",
          "25277.14",
          "84489.59",
          "28928.55",
          "9774.56",
          "59889.62",
          "90656.1",
          "84627.74",
          "61961.66",
          "67729.9",
          "53669.55",
          "45957.86",
          "77240.69",
          "27897.65",
          "81083.98",
          "81664.5",
          "78742.39",
          "1580.69",
          "3889.42",
          "45499.9",
          "98544.63",
          "96004.64",
          "23192.5",
          "28757.86",
          "97448.7",
          "58194.33",
          "36038.7",
          "53597.41",
          "1052.57",
          "81795.53",
          "97675.33",
          "32997.59",
          "85249.47",
          "8645.67",
          "7952.59",
          "97730.37",
          "6626.65",
          "59892.4",
          "37166.31",
          "56570.94",
          "91764.9",
          "91247.27",
          "59201.77",
          "93497.4",
          "18364.99",
          "63250.91",
          "52277.41",
          "41022.86",
          "69490.13",
          "16205.28",
          "71575.57",
          "78034.3",
          "87156.45",
          "28984.24",
          "39758.97",
          "46618.3",
          "96380.65",
          "44406.38",
          "31010.8",
          "19288.56",
          "54317.78",
          "41357.61",
          "16261.19",
          "27126.77",
          "97754.27",
          "86507.56",
          "75067.13",
          "46839.92",
          "73305.28",
          "90612.4",
          "18541.27",
          "73723.4",
          "60705.69",
          "14777.5",
          "81086.35",
          "39534.14",
          "63786.13",
          "63889.54",
          "14378.29",
          "57635.88",
          "78080.7",
          "95263.32",
          "54198.81",
          "65189.68",
          "85772.21",
          "85190.24",
          "87931.71",
          "34658.91",
          "57845.8",
          "65653.98",
          "69996.24",
          "2554.18",
          "11294.95",
          "15971.25",
          "36838.48",
          "24501.77",
          "49505.24",
          "5479.95",
          "13686.9",
          "7306.71",
          "96168.8",
          "80398.7",
          "7171.11",
          "40458.71",
          "85035.31",
          "28881.52",
          "99891.35",
          "35936.7",
          "52088.32",
          "19258.46",
          "35095.84",
          "89591.74",
          "30866.33",
          "60761.56",
          "82351.52",
          "68860.82",
          "71941.12",
          "92487.68",
          "6690.98",
          "65932.3",
          "2939.44",
          "89898.65",
          "79330.1",
          "49871.16",
          "86898.8",
          "88219.78",
          "40691.9",
          "72683.1",
          "11646.16",
          "89917.95",
          "78099.81",
          "35717.61",
          "74243.84",
          "25475.7",
          "28552.53",
          "38420.97",
          "39225.15",
          "1436.99",
          "11007.95",
          "94432.87",
          "87100.53",
          "81473.25",
          "89921.79",
          "93538.7",
          "96760.38",
          "90020.46",
          "14495.84",
          "7889.64",
          "53658.92",
          "21172.32",
          "88296.95",
          "42970.96",
          "49418.2",
          "3809.12",
          "96955.19",
          "22787.98",
          "59550.27",
          "55219.7",
          "38978.72",
          "77106.38",
          "16485.72",
          "32297.26",
          "80372.5",
          "51871.97",
          "3162.85",
          "1793.79",
          "52804.87",
          "71940.27",
          "83645.54",
          "40895.28",
          "33898.88",
          "46310.28",
          "32095.6",
          "96019.69",
          "13908.21",
          "4833.32",
          "28827.53",
          "89440.32",
          "31564.29",
          "86492.2",
          "13945.61",
          "13105.34",
          "27771.85",
          "30544.22",
          "35286.84",
          "23254.87",
          "29101.58",
          "31358.99",
          "51725.95",
          "28468.75",
          "8627.43",
          "92072.41",
          "42804.51",
          "4270.96",
          "68514.74",
          "76849.0",
          "74278.5",
          "21674.14",
          "72864.67",
          "47218.62",
          "29709.16",
          "55196.85",
          "72566.45",
          "11006.3",
          "9950.82",
          "38117.82",
          "74720.7",
          "37221.22",
          "33682.83",
          "1810.82",
          "29840.15",
          "81342.1",
          "96731.22",
          "27329.38",
          "21718.66",
          "80659.67",
          "95913.4",
          "34910.16",
          "51394.97",
          "27577.78",
          "31618.12",
          "84055.7",
          "28051.5",
          "16470.61",
          "39241.75",
          "54166.71",
          "40958.7",
          "21009.79",
          "23099.8",
          "33618.7",
          "55436.7",
          "73916.74",
          "66331.63",
          "39767.24",
          "86716.38",
          "69474.96",
          "7952.69",
          "92395.78",
          "76016.6",
          "32965.35",
          "99120.34",
          "65906.93",
          "16945.29",
          "41041.24",
          "44445.2",
          "11742.47",
          "68103.5",
          "26563.78",
          "3104.48",
          "1480.67",
          "43263.23",
          "50643.73",
          "30878.98",
          "30319.57",
          "89283.48",
          "64733.0",
          "1635.98",
          "11395.3",
          "24959.24",
          "59973.81",
          "11703.28",
          "8250.93",
          "6304.42",
          "72368.61",
          "37696.45",
          "6333.7",
          "41704.96",
          "72322.94",
          "1873.52",
          "38080.5",
          "2412.93",
          "46645.57",
          "41799.29",
          "74447.6",
          "98135.86",
          "10464.29",
          "78944.71",
          "30937.43",
          "94173.28",
          "61866.52",
          "58920.71",
          "70889.3",
          "38390.23",
          "32272.85",
          "21179.55",
          "71463.45",
          "63986.6",
          "23859.94",
          "29099.8",
          "92494.15",
          "72412.24",
          "84482.9",
          "46349.76",
          "5574.74",
          "71885.41",
          "37473.84",
          "72744.5",
          "35636.25",
          "84406.19",
          "88977.21",
          "41408.95",
          "9611.89",
          "67475.35",
          "81254.51",
          "83804.53",
          "41307.73",
          "78803.16",
          "64551.2",
          "14126.24",
          "35614.3",
          "42616.8",
          "59207.21",
          "76911.16",
          "10395.39",
          "78873.15",
          "18458.17",
          "37360.8",
          "94502.9",
          "90021.62",
          "5777.28",
          "62734.3",
          "61172.36",
          "27219.52",
          "66351.49",
          "20786.4",
          "32177.54",
          "90484.19",
          "71007.37",
          "65209.95",
          "54554.48",
          "18530.72",
          "56508.18",
          "23692.97",
          "74431.67",
          "6793.37",
          "69644.4",
          "66054.48",
          "68408.1",
          "44314.41",
          "31427.3",
          "80418.44",
          "20633.51",
          "2792.69",
          "8053.59",
          "62167.9",
          "63741.76",
          "49202.14",
          "44567.53",
          "89826.92",
          "86447.45",
          "11421.4",
          "68334.64",
          "21878.6",
          "12949.94",
          "9569.17",
          "88518.7",
          "25282.77",
          "17151.7",
          "53821.3",
          "57242.0",
          "60540.16",
          "58942.77",
          "29071.82",
          "5676.22",
          "73071.43",
          "82353.71",
          "98712.39",
          "10934.43",
          "17049.14",
          "85238.23",
          "55709.15",
          "39804.32",
          "92196.9",
          "73821.98",
          "57144.48",
          "24300.83",
          "94697.82",
          "97456.14",
          "87665.6",
          "86652.2",
          "69094.64",
          "97758.67",
          "83834.2",
          "14858.38",
          "57198.5",
          "94357.67",
          "19142.15",
          "32039.7",
          "82834.56",
          "86489.51",
          "67375.9",
          "17355.98",
          "22675.22",
          "68727.53",
          "65864.61",
          "20823.67",
          "22088.95",
          "39804.7",
          "54266.94",
          "59805.35",
          "59767.18",
          "35082.9",
          "55780.6",
          "34344.65",
          "62805.97",
          "12895.48",
          "20586.89",
          "45083.57",
          "19393.55",
          "77848.2",
          "13087.55",
          "41350.29",
          "82065.39",
          "14225.39",
          "28165.81",
          "21006.57",
          "49513.98",
          "83745.94",
          "10894.5",
          "52366.3",
          "80463.24",
          "2990.39",
          "43575.1",
          "26628.67",
          "14188.58",
          "95454.75",
          "73923.82",
          "58913.37",
          "63015.1",
          "13418.23",
          "78420.98",
          "47487.19",
          "44782.56",
          "93037.93",
          "4888.71",
          "2523.19",
          "26419.1",
          "70705.99",
          "49206.43",
          "96511.42",
          "47198.52",
          "36050.73",
          "92591.26",
          "21426.33",
          "43491.12",
          "85026.27",
          "70113.41",
          "19497.93",
          "68805.2",
          "86544.19",
          "55609.69",
          "46919.95",
          "12991.78",
          "88842.63",
          "88036.35",
          "90591.66",
          "90434.18",
          "38665.1",
          "21791.46",
          "56663.23",
          "5057.31",
          "77036.39",
          "37988.85",
          "36751.1",
          "49256.5",
          "31145.23",
          "41188.16",
          "41672.13",
          "80301.86",
          "10618.97",
          "76690.16",
          "43349.83",
          "67118.97",
          "74856.71",
          "99343.38",
          "6430.7",
          "99248.28",
          "7954.2",
          "2698.11",
          "57491.61",
          "19992.62",
          "40419.75",
          "75267.4",
          "52485.67",
          "33107.4",
          "53505.82",
          "99714.19",
          "91458.81",
          "82832.93",
          "84628.79",
          "64944.48",
          "78379.56",
          "24433.75",
          "74898.2",
          "3934.75",
          "64308.7",
          "76873.7",
          "76690.9",
          "53478.93",
          "41516.78",
          "69169.4",
          "95593.18",
          "2970.45",
          "4839.55",
          "70530.3",
          "78889.49",
          "76029.54",
          "37369.74",
          "43026.77",
          "86687.38",
          "41458.15",
          "78294.27",
          "61204.36",
          "75087.14",
          "87595.32",
          "31000.36",
          "25100.93",
          "40413.87",
          "2667.65",
          "15210.7",
          "55331.1",
          "86461.82",
          "82520.55",
          "14593.14",
          "3083.5",
          "67207.89",
          "57934.37",
          "21399.83",
          "43101.14",
          "44514.72",
          "23901.39",
          "67575.94",
          "86627.2",
          "44640.33",
          "64755.7",
          "95256.19",
          "82461.13",
          "1407.21",
          "26990.81",
          "43113.83",
          "99250.38",
          "3884.46",
          "1380.68",
          "36530.3",
          "86154.71",
          "88536.97",
          "35256.99",
          "61599.99",
          "75404.87",
          "36063.47",
          "17378.68",
          "70575.1",
          "75677.68",
          "20309.3",
          "76484.11",
          "20983.45",
          "23498.46",
          "40761.62",
          "50624.24",
          "29528.87",
          "71620.59",
          "65007.53",
          "88865.19",
          "29838.85",
          "82727.29",
          "40776.29",
          "28192.89",
          "11711.34",
          "46790.73",
          "43946.75",
          "49546.42",
          "9472.45",
          "41792.48",
          "92997.45",
          "92913.24",
          "15036.97",
          "95291.59",
          "29617.85",
          "8752.77",
          "41771.2",
          "53289.5",
          "85490.69",
          "95518.8",
          "20179.61",
          "15550.45",
          "26004.11",
          "66562.1",
          "8494.12",
          "24132.55",
          "99324.9",
          "5702.93",
          "11068.74",
          "47307.68",
          "5211.43",
          "66488.96",
          "41529.52",
          "59471.38",
          "37054.16",
          "46184.9",
          "35711.19",
          "16505.53",
          "9929.8",
          "11092.23",
          "56406.79",
          "94020.1",
          "45583.71",
          "94235.4",
          "20557.58",
          "35179.9",
          "24546.35",
          "11545.73",
          "1378.61",
          "41687.29",
          "78922.22",
          "29965.35",
          "44016.46",
          "79189.2",
          "65347.8",
          "64165.51",
          "55991.95",
          "88094.67",
          "23030.51",
          "44207.35",
          "40594.89",
          "55314.88",
          "91275.2",
          "67716.57",
          "15390.47",
          "71105.48",
          "4459.25",
          "30382.56",
          "29527.93",
          "97339.13",
          "38723.34",
          "62234.75",
          "63478.39",
          "93236.34",
          "84718.25",
          "17398.1",
          "78135.6",
          "24769.6",
          "36943.95",
          "67417.39",
          "65008.76",
          "75478.5",
          "30574.8",
          "73452.84",
          "2113.42",
          "43439.29",
          "55795.59",
          "7795.44",
          "93728.56",
          "61599.31",
          "71582.81",
          "40565.83",
          "8570.41",
          "10297.36",
          "12624.62",
          "71398.88",
          "95378.2",
          "95049.66",
          "14254.9",
          "39380.23",
          "1223.82",
          "32575.19",
          "61978.1",
          "62893.8",
          "80963.14",
          "89833.97",
          "78857.26",
          "42878.1",
          "27483.74",
          "32993.61",
          "2568.1",
          "9689.82",
          "48068.29",
          "41572.75",
          "54998.51",
          "26043.99",
          "24633.17",
          "56844.8",
          "50192.71",
          "86585.56",
          "15386.79",
          "56098.87",
          "86427.37",
          "12214.82",
          "83088.32",
          "80176.5",
          "11441.68",
          "48365.23",
          "86182.78",
          "87937.87",
          "13932.94",
          "8324.3",
          "10216.93",
          "73598.13",
          "39103.33",
          "5833.99",
          "60899.96",
          "40596.83",
          "25337.54",
          "93064.34",
          "75609.64",
          "21939.98",
          "89036.76",
          "31126.7",
          "51825.62",
          "71516.9",
          "95735.11",
          "26262.29",
          "99579.39",
          "35965.37",
          "47201.38",
          "66401.2",
          "69533.11",
          "73328.31",
          "50036.8",
          "24555.69",
          "83793.28",
          "20492.32",
          "84057.89",
          "44021.7",
          "72633.75",
          "42103.6",
          "30951.13",
          "4675.43",
          "55342.0",
          "83667.24",
          "69912.37",
          "68203.64",
          "53848.51",
          "2339.3",
          "85162.21",
          "57412.53",
          "17051.21",
          "20606.52",
          "18637.27",
          "57858.79",
          "9933.82",
          "55733.12",
          "3854.95",
          "43185.33",
          "35728.11",
          "70220.82",
          "39506.88",
          "93971.2",
          "51220.79",
          "88113.95",
          "62829.72",
          "79350.42",
          "69815.82",
          "29206.8",
          "59160.0",
          "17097.49",
          "31330.31",
          "35539.13",
          "43792.4",
          "80292.7",
          "93319.78",
          "25534.3",
          "7315.35",
          "4714.75",
          "83835.24",
          "17625.0",
          "29827.35",
          "62616.23",
          "47196.25",
          "4072.67",
          "82509.65",
          "50412.87",
          "93586.76",
          "7401.5",
          "97845.91",
          "77555.4",
          "11168.71",
          null,
          "36800.58",
          null,
          "50000.0",
          "8082.3",
          "9999999",
          "50000",
          "25000",
          "-10000",
          null,
          "75000",
          "30000",
          "20000",
          "100000",
          "abc",
          "60000",
          "40000"
         ],
         "yaxis": "y4"
        }
       ],
       "layout": {
        "annotations": [
         {
          "font": {
           "size": 16
          },
          "showarrow": false,
          "text": "Outliers en Revenue",
          "x": 0.10625,
          "xanchor": "center",
          "xref": "paper",
          "y": 1,
          "yanchor": "bottom",
          "yref": "paper"
         },
         {
          "font": {
           "size": 16
          },
          "showarrow": false,
          "text": "Outliers en ROI",
          "x": 0.36875,
          "xanchor": "center",
          "xref": "paper",
          "y": 1,
          "yanchor": "bottom",
          "yref": "paper"
         },
         {
          "font": {
           "size": 16
          },
          "showarrow": false,
          "text": "Outliers en Conversion Rate",
          "x": 0.6312500000000001,
          "xanchor": "center",
          "xref": "paper",
          "y": 1,
          "yanchor": "bottom",
          "yref": "paper"
         }
        ],
        "height": 600,
        "template": {
         "data": {
          "bar": [
           {
            "error_x": {
             "color": "#2a3f5f"
            },
            "error_y": {
             "color": "#2a3f5f"
            },
            "marker": {
             "line": {
              "color": "#E5ECF6",
              "width": 0.5
             },
             "pattern": {
              "fillmode": "overlay",
              "size": 10,
              "solidity": 0.2
             }
            },
            "type": "bar"
           }
          ],
          "barpolar": [
           {
            "marker": {
             "line": {
              "color": "#E5ECF6",
              "width": 0.5
             },
             "pattern": {
              "fillmode": "overlay",
              "size": 10,
              "solidity": 0.2
             }
            },
            "type": "barpolar"
           }
          ],
          "carpet": [
           {
            "aaxis": {
             "endlinecolor": "#2a3f5f",
             "gridcolor": "white",
             "linecolor": "white",
             "minorgridcolor": "white",
             "startlinecolor": "#2a3f5f"
            },
            "baxis": {
             "endlinecolor": "#2a3f5f",
             "gridcolor": "white",
             "linecolor": "white",
             "minorgridcolor": "white",
             "startlinecolor": "#2a3f5f"
            },
            "type": "carpet"
           }
          ],
          "choropleth": [
           {
            "colorbar": {
             "outlinewidth": 0,
             "ticks": ""
            },
            "type": "choropleth"
           }
          ],
          "contour": [
           {
            "colorbar": {
             "outlinewidth": 0,
             "ticks": ""
            },
            "colorscale": [
             [
              0,
              "#0d0887"
             ],
             [
              0.1111111111111111,
              "#46039f"
             ],
             [
              0.2222222222222222,
              "#7201a8"
             ],
             [
              0.3333333333333333,
              "#9c179e"
             ],
             [
              0.4444444444444444,
              "#bd3786"
             ],
             [
              0.5555555555555556,
              "#d8576b"
             ],
             [
              0.6666666666666666,
              "#ed7953"
             ],
             [
              0.7777777777777778,
              "#fb9f3a"
             ],
             [
              0.8888888888888888,
              "#fdca26"
             ],
             [
              1,
              "#f0f921"
             ]
            ],
            "type": "contour"
           }
          ],
          "contourcarpet": [
           {
            "colorbar": {
             "outlinewidth": 0,
             "ticks": ""
            },
            "type": "contourcarpet"
           }
          ],
          "heatmap": [
           {
            "colorbar": {
             "outlinewidth": 0,
             "ticks": ""
            },
            "colorscale": [
             [
              0,
              "#0d0887"
             ],
             [
              0.1111111111111111,
              "#46039f"
             ],
             [
              0.2222222222222222,
              "#7201a8"
             ],
             [
              0.3333333333333333,
              "#9c179e"
             ],
             [
              0.4444444444444444,
              "#bd3786"
             ],
             [
              0.5555555555555556,
              "#d8576b"
             ],
             [
              0.6666666666666666,
              "#ed7953"
             ],
             [
              0.7777777777777778,
              "#fb9f3a"
             ],
             [
              0.8888888888888888,
              "#fdca26"
             ],
             [
              1,
              "#f0f921"
             ]
            ],
            "type": "heatmap"
           }
          ],
          "histogram": [
           {
            "marker": {
             "pattern": {
              "fillmode": "overlay",
              "size": 10,
              "solidity": 0.2
             }
            },
            "type": "histogram"
           }
          ],
          "histogram2d": [
           {
            "colorbar": {
             "outlinewidth": 0,
             "ticks": ""
            },
            "colorscale": [
             [
              0,
              "#0d0887"
             ],
             [
              0.1111111111111111,
              "#46039f"
             ],
             [
              0.2222222222222222,
              "#7201a8"
             ],
             [
              0.3333333333333333,
              "#9c179e"
             ],
             [
              0.4444444444444444,
              "#bd3786"
             ],
             [
              0.5555555555555556,
              "#d8576b"
             ],
             [
              0.6666666666666666,
              "#ed7953"
             ],
             [
              0.7777777777777778,
              "#fb9f3a"
             ],
             [
              0.8888888888888888,
              "#fdca26"
             ],
             [
              1,
              "#f0f921"
             ]
            ],
            "type": "histogram2d"
           }
          ],
          "histogram2dcontour": [
           {
            "colorbar": {
             "outlinewidth": 0,
             "ticks": ""
            },
            "colorscale": [
             [
              0,
              "#0d0887"
             ],
             [
              0.1111111111111111,
              "#46039f"
             ],
             [
              0.2222222222222222,
              "#7201a8"
             ],
             [
              0.3333333333333333,
              "#9c179e"
             ],
             [
              0.4444444444444444,
              "#bd3786"
             ],
             [
              0.5555555555555556,
              "#d8576b"
             ],
             [
              0.6666666666666666,
              "#ed7953"
             ],
             [
              0.7777777777777778,
              "#fb9f3a"
             ],
             [
              0.8888888888888888,
              "#fdca26"
             ],
             [
              1,
              "#f0f921"
             ]
            ],
            "type": "histogram2dcontour"
           }
          ],
          "mesh3d": [
           {
            "colorbar": {
             "outlinewidth": 0,
             "ticks": ""
            },
            "type": "mesh3d"
           }
          ],
          "parcoords": [
           {
            "line": {
             "colorbar": {
              "outlinewidth": 0,
              "ticks": ""
             }
            },
            "type": "parcoords"
           }
          ],
          "pie": [
           {
            "automargin": true,
            "type": "pie"
           }
          ],
          "scatter": [
           {
            "fillpattern": {
             "fillmode": "overlay",
             "size": 10,
             "solidity": 0.2
            },
            "type": "scatter"
           }
          ],
          "scatter3d": [
           {
            "line": {
             "colorbar": {
              "outlinewidth": 0,
              "ticks": ""
             }
            },
            "marker": {
             "colorbar": {
              "outlinewidth": 0,
              "ticks": ""
             }
            },
            "type": "scatter3d"
           }
          ],
          "scattercarpet": [
           {
            "marker": {
             "colorbar": {
              "outlinewidth": 0,
              "ticks": ""
             }
            },
            "type": "scattercarpet"
           }
          ],
          "scattergeo": [
           {
            "marker": {
             "colorbar": {
              "outlinewidth": 0,
              "ticks": ""
             }
            },
            "type": "scattergeo"
           }
          ],
          "scattergl": [
           {
            "marker": {
             "colorbar": {
              "outlinewidth": 0,
              "ticks": ""
             }
            },
            "type": "scattergl"
           }
          ],
          "scattermap": [
           {
            "marker": {
             "colorbar": {
              "outlinewidth": 0,
              "ticks": ""
             }
            },
            "type": "scattermap"
           }
          ],
          "scattermapbox": [
           {
            "marker": {
             "colorbar": {
              "outlinewidth": 0,
              "ticks": ""
             }
            },
            "type": "scattermapbox"
           }
          ],
          "scatterpolar": [
           {
            "marker": {
             "colorbar": {
              "outlinewidth": 0,
              "ticks": ""
             }
            },
            "type": "scatterpolar"
           }
          ],
          "scatterpolargl": [
           {
            "marker": {
             "colorbar": {
              "outlinewidth": 0,
              "ticks": ""
             }
            },
            "type": "scatterpolargl"
           }
          ],
          "scatterternary": [
           {
            "marker": {
             "colorbar": {
              "outlinewidth": 0,
              "ticks": ""
             }
            },
            "type": "scatterternary"
           }
          ],
          "surface": [
           {
            "colorbar": {
             "outlinewidth": 0,
             "ticks": ""
            },
            "colorscale": [
             [
              0,
              "#0d0887"
             ],
             [
              0.1111111111111111,
              "#46039f"
             ],
             [
              0.2222222222222222,
              "#7201a8"
             ],
             [
              0.3333333333333333,
              "#9c179e"
             ],
             [
              0.4444444444444444,
              "#bd3786"
             ],
             [
              0.5555555555555556,
              "#d8576b"
             ],
             [
              0.6666666666666666,
              "#ed7953"
             ],
             [
              0.7777777777777778,
              "#fb9f3a"
             ],
             [
              0.8888888888888888,
              "#fdca26"
             ],
             [
              1,
              "#f0f921"
             ]
            ],
            "type": "surface"
           }
          ],
          "table": [
           {
            "cells": {
             "fill": {
              "color": "#EBF0F8"
             },
             "line": {
              "color": "white"
             }
            },
            "header": {
             "fill": {
              "color": "#C8D4E3"
             },
             "line": {
              "color": "white"
             }
            },
            "type": "table"
           }
          ]
         },
         "layout": {
          "annotationdefaults": {
           "arrowcolor": "#2a3f5f",
           "arrowhead": 0,
           "arrowwidth": 1
          },
          "autotypenumbers": "strict",
          "coloraxis": {
           "colorbar": {
            "outlinewidth": 0,
            "ticks": ""
           }
          },
          "colorscale": {
           "diverging": [
            [
             0,
             "#8e0152"
            ],
            [
             0.1,
             "#c51b7d"
            ],
            [
             0.2,
             "#de77ae"
            ],
            [
             0.3,
             "#f1b6da"
            ],
            [
             0.4,
             "#fde0ef"
            ],
            [
             0.5,
             "#f7f7f7"
            ],
            [
             0.6,
             "#e6f5d0"
            ],
            [
             0.7,
             "#b8e186"
            ],
            [
             0.8,
             "#7fbc41"
            ],
            [
             0.9,
             "#4d9221"
            ],
            [
             1,
             "#276419"
            ]
           ],
           "sequential": [
            [
             0,
             "#0d0887"
            ],
            [
             0.1111111111111111,
             "#46039f"
            ],
            [
             0.2222222222222222,
             "#7201a8"
            ],
            [
             0.3333333333333333,
             "#9c179e"
            ],
            [
             0.4444444444444444,
             "#bd3786"
            ],
            [
             0.5555555555555556,
             "#d8576b"
            ],
            [
             0.6666666666666666,
             "#ed7953"
            ],
            [
             0.7777777777777778,
             "#fb9f3a"
            ],
            [
             0.8888888888888888,
             "#fdca26"
            ],
            [
             1,
             "#f0f921"
            ]
           ],
           "sequentialminus": [
            [
             0,
             "#0d0887"
            ],
            [
             0.1111111111111111,
             "#46039f"
            ],
            [
             0.2222222222222222,
             "#7201a8"
            ],
            [
             0.3333333333333333,
             "#9c179e"
            ],
            [
             0.4444444444444444,
             "#bd3786"
            ],
            [
             0.5555555555555556,
             "#d8576b"
            ],
            [
             0.6666666666666666,
             "#ed7953"
            ],
            [
             0.7777777777777778,
             "#fb9f3a"
            ],
            [
             0.8888888888888888,
             "#fdca26"
            ],
            [
             1,
             "#f0f921"
            ]
           ]
          },
          "colorway": [
           "#636efa",
           "#EF553B",
           "#00cc96",
           "#ab63fa",
           "#FFA15A",
           "#19d3f3",
           "#FF6692",
           "#B6E880",
           "#FF97FF",
           "#FECB52"
          ],
          "font": {
           "color": "#2a3f5f"
          },
          "geo": {
           "bgcolor": "white",
           "lakecolor": "white",
           "landcolor": "#E5ECF6",
           "showlakes": true,
           "showland": true,
           "subunitcolor": "white"
          },
          "hoverlabel": {
           "align": "left"
          },
          "hovermode": "closest",
          "mapbox": {
           "style": "light"
          },
          "paper_bgcolor": "white",
          "plot_bgcolor": "#E5ECF6",
          "polar": {
           "angularaxis": {
            "gridcolor": "white",
            "linecolor": "white",
            "ticks": ""
           },
           "bgcolor": "#E5ECF6",
           "radialaxis": {
            "gridcolor": "white",
            "linecolor": "white",
            "ticks": ""
           }
          },
          "scene": {
           "xaxis": {
            "backgroundcolor": "#E5ECF6",
            "gridcolor": "white",
            "gridwidth": 2,
            "linecolor": "white",
            "showbackground": true,
            "ticks": "",
            "zerolinecolor": "white"
           },
           "yaxis": {
            "backgroundcolor": "#E5ECF6",
            "gridcolor": "white",
            "gridwidth": 2,
            "linecolor": "white",
            "showbackground": true,
            "ticks": "",
            "zerolinecolor": "white"
           },
           "zaxis": {
            "backgroundcolor": "#E5ECF6",
            "gridcolor": "white",
            "gridwidth": 2,
            "linecolor": "white",
            "showbackground": true,
            "ticks": "",
            "zerolinecolor": "white"
           }
          },
          "shapedefaults": {
           "line": {
            "color": "#2a3f5f"
           }
          },
          "ternary": {
           "aaxis": {
            "gridcolor": "white",
            "linecolor": "white",
            "ticks": ""
           },
           "baxis": {
            "gridcolor": "white",
            "linecolor": "white",
            "ticks": ""
           },
           "bgcolor": "#E5ECF6",
           "caxis": {
            "gridcolor": "white",
            "linecolor": "white",
            "ticks": ""
           }
          },
          "title": {
           "x": 0.05
          },
          "xaxis": {
           "automargin": true,
           "gridcolor": "white",
           "linecolor": "white",
           "ticks": "",
           "title": {
            "standoff": 15
           },
           "zerolinecolor": "white",
           "zerolinewidth": 2
          },
          "yaxis": {
           "automargin": true,
           "gridcolor": "white",
           "linecolor": "white",
           "ticks": "",
           "title": {
            "standoff": 15
           },
           "zerolinecolor": "white",
           "zerolinewidth": 2
          }
         }
        },
        "title": {
         "text": "Visualización de valores atípicos"
        },
        "width": 800,
        "xaxis": {
         "anchor": "y",
         "domain": [
          0,
          0.2125
         ]
        },
        "xaxis2": {
         "anchor": "y2",
         "domain": [
          0.2625,
          0.475
         ]
        },
        "xaxis3": {
         "anchor": "y3",
         "domain": [
          0.525,
          0.7375
         ]
        },
        "xaxis4": {
         "anchor": "y4",
         "domain": [
          0.7875,
          1
         ]
        },
        "yaxis": {
         "anchor": "x",
         "domain": [
          0,
          1
         ]
        },
        "yaxis2": {
         "anchor": "x2",
         "domain": [
          0,
          1
         ]
        },
        "yaxis3": {
         "anchor": "x3",
         "domain": [
          0,
          1
         ]
        },
        "yaxis4": {
         "anchor": "x4",
         "domain": [
          0,
          1
         ]
        }
       }
      }
     },
     "metadata": {},
     "output_type": "display_data"
    }
   ],
   "source": [
    "from plotly.subplots import make_subplots\n",
    "\n",
    "# Crear subplots\n",
    "fig = make_subplots(rows=1, cols=4, subplot_titles=('Outliers en Revenue', 'Outliers en ROI', 'Outliers en Conversion Rate'))\n",
    "\n",
    "# Definir tonos del boxplot\n",
    "blue_tones = ['#ADD8E6', '#87CEEB', '#4682B4', '#191970']  # Azul claro, Azul cielo, Azul acero\n",
    "\n",
    "# Añadir boxplots con tonos de azul\n",
    "fig.add_trace(go.Box(y=df['revenue'], name='Revenue', marker_color=blue_tones[0]), row=1, col=1)\n",
    "fig.add_trace(go.Box(y=df['roi'], name='ROI', marker_color=blue_tones[1]), row=1, col=2)\n",
    "fig.add_trace(go.Box(y=df['conversion_rate'], name='Conversion Rate', marker_color=blue_tones[2]), row=1, col=3)\n",
    "fig.add_trace(go.Box(y=df['budget'], name='budget', marker_color=blue_tones[3]), row=1, col=4)\n",
    "# Actualizar layout\n",
    "fig.update_layout(title_text='Visualización de valores atípicos', height=600, width=800)\n",
    "\n",
    "# Mostrar la figura\n",
    "fig.show()"
   ]
  },
  {
   "cell_type": "markdown",
   "id": "495037ea",
   "metadata": {},
   "source": [
    "#### Categorizaciones y filtros"
   ]
  },
  {
   "cell_type": "code",
   "execution_count": 558,
   "id": "f698f923",
   "metadata": {},
   "outputs": [
    {
     "name": "stdout",
     "output_type": "stream",
     "text": [
      "9999999.0\n",
      "0.0\n"
     ]
    }
   ],
   "source": [
    "#Calculamos el budget maximo para categorizar\n",
    "max_budget = df_limpio['budget'].max()\n",
    "print(max_budget)\n",
    "\n",
    "#Calculamos el budget minimo para categorizar\n",
    "min_budget = df_limpio['budget'].min()\n",
    "print(min_budget)"
   ]
  },
  {
   "cell_type": "code",
   "execution_count": 559,
   "id": "f8adbdbd",
   "metadata": {},
   "outputs": [],
   "source": [
    "# Categorizando el budget\n",
    "df_limpio['budget_cat'] = pd.cut(\n",
    "    df_limpio['budget'],\n",
    "    bins=[0, 1000, 10000, 100000, 1000000, float('inf')],\n",
    "    labels=['Nulo', 'Bajo', 'Medio', 'Alto', 'Muy Alto'],\n",
    "    include_lowest=True\n",
    ")"
   ]
  },
  {
   "cell_type": "code",
   "execution_count": 560,
   "id": "46f693d5",
   "metadata": {},
   "outputs": [
    {
     "name": "stdout",
     "output_type": "stream",
     "text": [
      "999712.49\n",
      "108.21\n"
     ]
    }
   ],
   "source": [
    "#Calculamos el budget maximo para categorizar\n",
    "max_budget = df_limpio['revenue'].max()\n",
    "print(max_budget)\n",
    "\n",
    "#Calculamos el budget minimo para categorizar\n",
    "min_budget = df_limpio['revenue'].min()\n",
    "print(min_budget)"
   ]
  },
  {
   "cell_type": "code",
   "execution_count": 561,
   "id": "f713d1f2",
   "metadata": {},
   "outputs": [],
   "source": [
    "# Categorizando el revenue\n",
    "df_limpio['revenue_cat'] = pd.cut(df_limpio['revenue'], bins=[0, 500, 10000, 100000, 1000000, float('inf')], labels=['Muy Bajo', 'Bajo', 'Medio', 'Alto', 'Muy Alto'], include_lowest=True)"
   ]
  },
  {
   "cell_type": "code",
   "execution_count": 562,
   "id": "01b3b904",
   "metadata": {},
   "outputs": [
    {
     "name": "stdout",
     "output_type": "stream",
     "text": [
      "88475.9\n"
     ]
    }
   ],
   "source": [
    "max_roi = df_limpio['roi'].max()\n",
    "print(max_roi)\n"
   ]
  },
  {
   "cell_type": "code",
   "execution_count": 563,
   "id": "410c49ec",
   "metadata": {},
   "outputs": [
    {
     "name": "stdout",
     "output_type": "stream",
     "text": [
      "-99.83\n"
     ]
    }
   ],
   "source": [
    "min_roi = df_limpio['roi'].min()\n",
    "print(min_roi)"
   ]
  },
  {
   "cell_type": "code",
   "execution_count": 565,
   "id": "68db2184",
   "metadata": {},
   "outputs": [
    {
     "name": "stdout",
     "output_type": "stream",
     "text": [
      "Número de valores negativos en la columna 'roi_num': 43\n"
     ]
    }
   ],
   "source": [
    "# Contar valores negativos en la columna 'roi_num'\n",
    "num_roi_negativos = (df_limpio['roi'] < 0).sum()\n",
    "\n",
    "print(f\"Número de valores negativos en la columna 'roi_num': {num_roi_negativos}\")\n"
   ]
  },
  {
   "cell_type": "code",
   "execution_count": 566,
   "id": "9ef3988f",
   "metadata": {},
   "outputs": [
    {
     "name": "stdout",
     "output_type": "stream",
     "text": [
      "Porcentaje de valores negativos en la columna 'roi_num': 4.23%\n"
     ]
    }
   ],
   "source": [
    "# Calcular el porcentaje de valores negativos\n",
    "porcentaje_negativos = (num_roi_negativos / len(df_limpio)) * 100\n",
    "print(f\"Porcentaje de valores negativos en la columna 'roi_num': {porcentaje_negativos:.2f}%\")\n"
   ]
  },
  {
   "cell_type": "code",
   "execution_count": 568,
   "id": "2e1a44e7",
   "metadata": {},
   "outputs": [],
   "source": [
    "# categorizar roi\n",
    "df_limpio['roi_cat'] = pd.cut(\n",
    "    df_limpio['roi'],\n",
    "    bins=[-20, 0, 10, 1000, 3000],\n",
    "    labels=['Pérdida', 'Bajo', 'Medio', 'Alto'],\n",
    "    include_lowest=True\n",
    ")\n"
   ]
  },
  {
   "cell_type": "code",
   "execution_count": 569,
   "id": "28894c28",
   "metadata": {},
   "outputs": [],
   "source": [
    "#guardamos el dataframe limpio en un nuevo archivo csv\n",
    "df_limpio.to_csv('pre-marketing.csv', index=False)\n"
   ]
  }
 ],
 "metadata": {
  "kernelspec": {
   "display_name": "Python 3",
   "language": "python",
   "name": "python3"
  },
  "language_info": {
   "codemirror_mode": {
    "name": "ipython",
    "version": 3
   },
   "file_extension": ".py",
   "mimetype": "text/x-python",
   "name": "python",
   "nbconvert_exporter": "python",
   "pygments_lexer": "ipython3",
   "version": "3.10.11"
  }
 },
 "nbformat": 4,
 "nbformat_minor": 5
}
