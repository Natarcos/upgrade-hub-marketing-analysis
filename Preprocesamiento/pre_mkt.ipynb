{
 "cells": [
  {
   "cell_type": "markdown",
   "id": "19386d31",
   "metadata": {},
   "source": [
    "#### Librerias"
   ]
  },
  {
   "cell_type": "code",
   "execution_count": 417,
   "id": "6ac4de6c",
   "metadata": {},
   "outputs": [],
   "source": [
    "#Librerias generales\n",
    "import pandas as pd\n",
    "import numpy as np\n",
    "\n",
    "#Librerias procesamiento de datos\n",
    "from datetime import datetime, timedelta\n",
    "\n",
    "#Librerias para gráficas\n",
    "import matplotlib.pyplot as plt\n",
    "import seaborn as sns\n",
    "import plotly.express as px\n",
    "import plotly.graph_objects as go\n"
   ]
  },
  {
   "cell_type": "markdown",
   "id": "84a08570",
   "metadata": {},
   "source": [
    "#### Configuración"
   ]
  },
  {
   "cell_type": "code",
   "execution_count": 418,
   "id": "524d65a5",
   "metadata": {},
   "outputs": [],
   "source": [
    "plt.style.use('ggplot')\n",
    "sns.set(style=\"whitegrid\")\n",
    "plt.rcParams['figure.figsize'] = (12, 4)\n",
    "plt.rcParams['font.size'] = 12"
   ]
  },
  {
   "cell_type": "markdown",
   "id": "1f8e2fbe",
   "metadata": {},
   "source": [
    "#### Carga de data"
   ]
  },
  {
   "cell_type": "code",
   "execution_count": 419,
   "id": "29a42100",
   "metadata": {},
   "outputs": [],
   "source": [
    "df = pd.read_csv('/Users/n.arcos89/Documents/GitHub/upgrade-hub-marketing-analysis/Data/marketingcampaigns.csv', on_bad_lines='skip')"
   ]
  },
  {
   "cell_type": "markdown",
   "id": "3608280e",
   "metadata": {},
   "source": [
    "#### Aproximación al dataframe"
   ]
  },
  {
   "cell_type": "code",
   "execution_count": 420,
   "id": "71be7538",
   "metadata": {},
   "outputs": [
    {
     "data": {
      "text/html": [
       "<div>\n",
       "<style scoped>\n",
       "    .dataframe tbody tr th:only-of-type {\n",
       "        vertical-align: middle;\n",
       "    }\n",
       "\n",
       "    .dataframe tbody tr th {\n",
       "        vertical-align: top;\n",
       "    }\n",
       "\n",
       "    .dataframe thead th {\n",
       "        text-align: right;\n",
       "    }\n",
       "</style>\n",
       "<table border=\"1\" class=\"dataframe\">\n",
       "  <thead>\n",
       "    <tr style=\"text-align: right;\">\n",
       "      <th></th>\n",
       "      <th>campaign_name</th>\n",
       "      <th>start_date</th>\n",
       "      <th>end_date</th>\n",
       "      <th>budget</th>\n",
       "      <th>roi</th>\n",
       "      <th>type</th>\n",
       "      <th>target_audience</th>\n",
       "      <th>channel</th>\n",
       "      <th>conversion_rate</th>\n",
       "      <th>revenue</th>\n",
       "    </tr>\n",
       "  </thead>\n",
       "  <tbody>\n",
       "    <tr>\n",
       "      <th>0</th>\n",
       "      <td>Public-key multi-tasking throughput</td>\n",
       "      <td>2023-04-01</td>\n",
       "      <td>2024-02-23</td>\n",
       "      <td>8082.3</td>\n",
       "      <td>0.35</td>\n",
       "      <td>email</td>\n",
       "      <td>B2B</td>\n",
       "      <td>organic</td>\n",
       "      <td>0.40</td>\n",
       "      <td>709593.48</td>\n",
       "    </tr>\n",
       "    <tr>\n",
       "      <th>1</th>\n",
       "      <td>De-engineered analyzing task-force</td>\n",
       "      <td>2023-02-15</td>\n",
       "      <td>2024-04-22</td>\n",
       "      <td>17712.98</td>\n",
       "      <td>0.74</td>\n",
       "      <td>email</td>\n",
       "      <td>B2C</td>\n",
       "      <td>promotion</td>\n",
       "      <td>0.66</td>\n",
       "      <td>516609.10</td>\n",
       "    </tr>\n",
       "  </tbody>\n",
       "</table>\n",
       "</div>"
      ],
      "text/plain": [
       "                         campaign_name  start_date    end_date    budget  \\\n",
       "0  Public-key multi-tasking throughput  2023-04-01  2024-02-23    8082.3   \n",
       "1   De-engineered analyzing task-force  2023-02-15  2024-04-22  17712.98   \n",
       "\n",
       "    roi   type target_audience    channel  conversion_rate    revenue  \n",
       "0  0.35  email             B2B    organic             0.40  709593.48  \n",
       "1  0.74  email             B2C  promotion             0.66  516609.10  "
      ]
     },
     "execution_count": 420,
     "metadata": {},
     "output_type": "execute_result"
    }
   ],
   "source": [
    "#comprobamos las dos primeras filas del dataframe\n",
    "df.head(2)"
   ]
  },
  {
   "cell_type": "code",
   "execution_count": 421,
   "id": "ba187d40",
   "metadata": {},
   "outputs": [
    {
     "data": {
      "text/html": [
       "<div>\n",
       "<style scoped>\n",
       "    .dataframe tbody tr th:only-of-type {\n",
       "        vertical-align: middle;\n",
       "    }\n",
       "\n",
       "    .dataframe tbody tr th {\n",
       "        vertical-align: top;\n",
       "    }\n",
       "\n",
       "    .dataframe thead th {\n",
       "        text-align: right;\n",
       "    }\n",
       "</style>\n",
       "<table border=\"1\" class=\"dataframe\">\n",
       "  <thead>\n",
       "    <tr style=\"text-align: right;\">\n",
       "      <th></th>\n",
       "      <th>campaign_name</th>\n",
       "      <th>start_date</th>\n",
       "      <th>end_date</th>\n",
       "      <th>budget</th>\n",
       "      <th>roi</th>\n",
       "      <th>type</th>\n",
       "      <th>target_audience</th>\n",
       "      <th>channel</th>\n",
       "      <th>conversion_rate</th>\n",
       "      <th>revenue</th>\n",
       "    </tr>\n",
       "  </thead>\n",
       "  <tbody>\n",
       "    <tr>\n",
       "      <th>1030</th>\n",
       "      <td>Overlapping dates</td>\n",
       "      <td>2023-03-01</td>\n",
       "      <td>2022-12-31</td>\n",
       "      <td>60000</td>\n",
       "      <td>0.6</td>\n",
       "      <td>webinar</td>\n",
       "      <td>B2B</td>\n",
       "      <td>paid</td>\n",
       "      <td>0.7</td>\n",
       "      <td>90000.0</td>\n",
       "    </tr>\n",
       "    <tr>\n",
       "      <th>1031</th>\n",
       "      <td>Too many conversions</td>\n",
       "      <td>2023-05-01</td>\n",
       "      <td>2023-11-01</td>\n",
       "      <td>40000</td>\n",
       "      <td>0.8</td>\n",
       "      <td>social media</td>\n",
       "      <td>B2C</td>\n",
       "      <td>organic</td>\n",
       "      <td>1.5</td>\n",
       "      <td>120000.0</td>\n",
       "    </tr>\n",
       "  </tbody>\n",
       "</table>\n",
       "</div>"
      ],
      "text/plain": [
       "             campaign_name  start_date    end_date budget  roi          type  \\\n",
       "1030     Overlapping dates  2023-03-01  2022-12-31  60000  0.6       webinar   \n",
       "1031  Too many conversions  2023-05-01  2023-11-01  40000  0.8  social media   \n",
       "\n",
       "     target_audience  channel  conversion_rate   revenue  \n",
       "1030             B2B     paid              0.7   90000.0  \n",
       "1031             B2C  organic              1.5  120000.0  "
      ]
     },
     "execution_count": 421,
     "metadata": {},
     "output_type": "execute_result"
    }
   ],
   "source": [
    "#compromabos las dos últimas filas del dataframe\n",
    "df.tail(2)"
   ]
  },
  {
   "cell_type": "code",
   "execution_count": 422,
   "id": "04c4ff85",
   "metadata": {},
   "outputs": [
    {
     "data": {
      "text/plain": [
       "(1032, 10)"
      ]
     },
     "execution_count": 422,
     "metadata": {},
     "output_type": "execute_result"
    }
   ],
   "source": [
    "#comprobamos la extensión del dataset\n",
    "df.shape"
   ]
  },
  {
   "cell_type": "code",
   "execution_count": 423,
   "id": "72ff13c3",
   "metadata": {},
   "outputs": [
    {
     "data": {
      "text/plain": [
       "Index(['campaign_name', 'start_date', 'end_date', 'budget', 'roi', 'type',\n",
       "       'target_audience', 'channel', 'conversion_rate', 'revenue'],\n",
       "      dtype='object')"
      ]
     },
     "execution_count": 423,
     "metadata": {},
     "output_type": "execute_result"
    }
   ],
   "source": [
    "#conocemos las columnas del df\n",
    "df.columns"
   ]
  },
  {
   "cell_type": "code",
   "execution_count": 424,
   "id": "e3200c86",
   "metadata": {},
   "outputs": [
    {
     "name": "stdout",
     "output_type": "stream",
     "text": [
      "<class 'pandas.core.frame.DataFrame'>\n",
      "RangeIndex: 1032 entries, 0 to 1031\n",
      "Data columns (total 10 columns):\n",
      " #   Column           Non-Null Count  Dtype  \n",
      "---  ------           --------------  -----  \n",
      " 0   campaign_name    1032 non-null   object \n",
      " 1   start_date       1031 non-null   object \n",
      " 2   end_date         1030 non-null   object \n",
      " 3   budget           1029 non-null   object \n",
      " 4   roi              1028 non-null   float64\n",
      " 5   type             1031 non-null   object \n",
      " 6   target_audience  1030 non-null   object \n",
      " 7   channel          1031 non-null   object \n",
      " 8   conversion_rate  1028 non-null   float64\n",
      " 9   revenue          1029 non-null   float64\n",
      "dtypes: float64(3), object(7)\n",
      "memory usage: 80.8+ KB\n"
     ]
    }
   ],
   "source": [
    "#conocemos los tipos de datos del df\n",
    "df.info()"
   ]
  },
  {
   "cell_type": "code",
   "execution_count": 425,
   "id": "584c450d",
   "metadata": {},
   "outputs": [
    {
     "data": {
      "text/html": [
       "<div>\n",
       "<style scoped>\n",
       "    .dataframe tbody tr th:only-of-type {\n",
       "        vertical-align: middle;\n",
       "    }\n",
       "\n",
       "    .dataframe tbody tr th {\n",
       "        vertical-align: top;\n",
       "    }\n",
       "\n",
       "    .dataframe thead th {\n",
       "        text-align: right;\n",
       "    }\n",
       "</style>\n",
       "<table border=\"1\" class=\"dataframe\">\n",
       "  <thead>\n",
       "    <tr style=\"text-align: right;\">\n",
       "      <th></th>\n",
       "      <th>roi</th>\n",
       "      <th>conversion_rate</th>\n",
       "      <th>revenue</th>\n",
       "    </tr>\n",
       "  </thead>\n",
       "  <tbody>\n",
       "    <tr>\n",
       "      <th>count</th>\n",
       "      <td>1028.000000</td>\n",
       "      <td>1028.000000</td>\n",
       "      <td>1029.000000</td>\n",
       "    </tr>\n",
       "    <tr>\n",
       "      <th>mean</th>\n",
       "      <td>0.533804</td>\n",
       "      <td>0.541936</td>\n",
       "      <td>511591.195277</td>\n",
       "    </tr>\n",
       "    <tr>\n",
       "      <th>std</th>\n",
       "      <td>0.261869</td>\n",
       "      <td>0.267353</td>\n",
       "      <td>287292.729847</td>\n",
       "    </tr>\n",
       "    <tr>\n",
       "      <th>min</th>\n",
       "      <td>-0.200000</td>\n",
       "      <td>0.000000</td>\n",
       "      <td>108.210000</td>\n",
       "    </tr>\n",
       "    <tr>\n",
       "      <th>25%</th>\n",
       "      <td>0.310000</td>\n",
       "      <td>0.300000</td>\n",
       "      <td>267820.250000</td>\n",
       "    </tr>\n",
       "    <tr>\n",
       "      <th>50%</th>\n",
       "      <td>0.530000</td>\n",
       "      <td>0.550000</td>\n",
       "      <td>518001.770000</td>\n",
       "    </tr>\n",
       "    <tr>\n",
       "      <th>75%</th>\n",
       "      <td>0.760000</td>\n",
       "      <td>0.770000</td>\n",
       "      <td>765775.140000</td>\n",
       "    </tr>\n",
       "    <tr>\n",
       "      <th>max</th>\n",
       "      <td>0.990000</td>\n",
       "      <td>1.500000</td>\n",
       "      <td>999712.490000</td>\n",
       "    </tr>\n",
       "  </tbody>\n",
       "</table>\n",
       "</div>"
      ],
      "text/plain": [
       "               roi  conversion_rate        revenue\n",
       "count  1028.000000      1028.000000    1029.000000\n",
       "mean      0.533804         0.541936  511591.195277\n",
       "std       0.261869         0.267353  287292.729847\n",
       "min      -0.200000         0.000000     108.210000\n",
       "25%       0.310000         0.300000  267820.250000\n",
       "50%       0.530000         0.550000  518001.770000\n",
       "75%       0.760000         0.770000  765775.140000\n",
       "max       0.990000         1.500000  999712.490000"
      ]
     },
     "execution_count": 425,
     "metadata": {},
     "output_type": "execute_result"
    }
   ],
   "source": [
    "#hacemos un resumen estadístico de las variables numéricas\n",
    "df.describe()"
   ]
  },
  {
   "cell_type": "code",
   "execution_count": 426,
   "id": "18a70c56",
   "metadata": {},
   "outputs": [
    {
     "data": {
      "text/html": [
       "<div>\n",
       "<style scoped>\n",
       "    .dataframe tbody tr th:only-of-type {\n",
       "        vertical-align: middle;\n",
       "    }\n",
       "\n",
       "    .dataframe tbody tr th {\n",
       "        vertical-align: top;\n",
       "    }\n",
       "\n",
       "    .dataframe thead th {\n",
       "        text-align: right;\n",
       "    }\n",
       "</style>\n",
       "<table border=\"1\" class=\"dataframe\">\n",
       "  <thead>\n",
       "    <tr style=\"text-align: right;\">\n",
       "      <th></th>\n",
       "      <th>campaign_name</th>\n",
       "      <th>start_date</th>\n",
       "      <th>end_date</th>\n",
       "      <th>budget</th>\n",
       "      <th>roi</th>\n",
       "      <th>type</th>\n",
       "      <th>target_audience</th>\n",
       "      <th>channel</th>\n",
       "      <th>conversion_rate</th>\n",
       "      <th>revenue</th>\n",
       "    </tr>\n",
       "  </thead>\n",
       "  <tbody>\n",
       "    <tr>\n",
       "      <th>count</th>\n",
       "      <td>1032</td>\n",
       "      <td>1031</td>\n",
       "      <td>1030</td>\n",
       "      <td>1029</td>\n",
       "      <td>1028.000000</td>\n",
       "      <td>1031</td>\n",
       "      <td>1030</td>\n",
       "      <td>1031</td>\n",
       "      <td>1028.000000</td>\n",
       "      <td>1029.000000</td>\n",
       "    </tr>\n",
       "    <tr>\n",
       "      <th>unique</th>\n",
       "      <td>1014</td>\n",
       "      <td>347</td>\n",
       "      <td>347</td>\n",
       "      <td>1011</td>\n",
       "      <td>NaN</td>\n",
       "      <td>6</td>\n",
       "      <td>3</td>\n",
       "      <td>4</td>\n",
       "      <td>NaN</td>\n",
       "      <td>NaN</td>\n",
       "    </tr>\n",
       "    <tr>\n",
       "      <th>top</th>\n",
       "      <td>User-friendly client-driven service-desk</td>\n",
       "      <td>2023-07-07</td>\n",
       "      <td>2023-10-09</td>\n",
       "      <td>8082.3</td>\n",
       "      <td>NaN</td>\n",
       "      <td>email</td>\n",
       "      <td>B2B</td>\n",
       "      <td>promotion</td>\n",
       "      <td>NaN</td>\n",
       "      <td>NaN</td>\n",
       "    </tr>\n",
       "    <tr>\n",
       "      <th>freq</th>\n",
       "      <td>3</td>\n",
       "      <td>9</td>\n",
       "      <td>9</td>\n",
       "      <td>4</td>\n",
       "      <td>NaN</td>\n",
       "      <td>288</td>\n",
       "      <td>529</td>\n",
       "      <td>280</td>\n",
       "      <td>NaN</td>\n",
       "      <td>NaN</td>\n",
       "    </tr>\n",
       "    <tr>\n",
       "      <th>mean</th>\n",
       "      <td>NaN</td>\n",
       "      <td>NaN</td>\n",
       "      <td>NaN</td>\n",
       "      <td>NaN</td>\n",
       "      <td>0.533804</td>\n",
       "      <td>NaN</td>\n",
       "      <td>NaN</td>\n",
       "      <td>NaN</td>\n",
       "      <td>0.541936</td>\n",
       "      <td>511591.195277</td>\n",
       "    </tr>\n",
       "    <tr>\n",
       "      <th>std</th>\n",
       "      <td>NaN</td>\n",
       "      <td>NaN</td>\n",
       "      <td>NaN</td>\n",
       "      <td>NaN</td>\n",
       "      <td>0.261869</td>\n",
       "      <td>NaN</td>\n",
       "      <td>NaN</td>\n",
       "      <td>NaN</td>\n",
       "      <td>0.267353</td>\n",
       "      <td>287292.729847</td>\n",
       "    </tr>\n",
       "    <tr>\n",
       "      <th>min</th>\n",
       "      <td>NaN</td>\n",
       "      <td>NaN</td>\n",
       "      <td>NaN</td>\n",
       "      <td>NaN</td>\n",
       "      <td>-0.200000</td>\n",
       "      <td>NaN</td>\n",
       "      <td>NaN</td>\n",
       "      <td>NaN</td>\n",
       "      <td>0.000000</td>\n",
       "      <td>108.210000</td>\n",
       "    </tr>\n",
       "    <tr>\n",
       "      <th>25%</th>\n",
       "      <td>NaN</td>\n",
       "      <td>NaN</td>\n",
       "      <td>NaN</td>\n",
       "      <td>NaN</td>\n",
       "      <td>0.310000</td>\n",
       "      <td>NaN</td>\n",
       "      <td>NaN</td>\n",
       "      <td>NaN</td>\n",
       "      <td>0.300000</td>\n",
       "      <td>267820.250000</td>\n",
       "    </tr>\n",
       "    <tr>\n",
       "      <th>50%</th>\n",
       "      <td>NaN</td>\n",
       "      <td>NaN</td>\n",
       "      <td>NaN</td>\n",
       "      <td>NaN</td>\n",
       "      <td>0.530000</td>\n",
       "      <td>NaN</td>\n",
       "      <td>NaN</td>\n",
       "      <td>NaN</td>\n",
       "      <td>0.550000</td>\n",
       "      <td>518001.770000</td>\n",
       "    </tr>\n",
       "    <tr>\n",
       "      <th>75%</th>\n",
       "      <td>NaN</td>\n",
       "      <td>NaN</td>\n",
       "      <td>NaN</td>\n",
       "      <td>NaN</td>\n",
       "      <td>0.760000</td>\n",
       "      <td>NaN</td>\n",
       "      <td>NaN</td>\n",
       "      <td>NaN</td>\n",
       "      <td>0.770000</td>\n",
       "      <td>765775.140000</td>\n",
       "    </tr>\n",
       "    <tr>\n",
       "      <th>max</th>\n",
       "      <td>NaN</td>\n",
       "      <td>NaN</td>\n",
       "      <td>NaN</td>\n",
       "      <td>NaN</td>\n",
       "      <td>0.990000</td>\n",
       "      <td>NaN</td>\n",
       "      <td>NaN</td>\n",
       "      <td>NaN</td>\n",
       "      <td>1.500000</td>\n",
       "      <td>999712.490000</td>\n",
       "    </tr>\n",
       "  </tbody>\n",
       "</table>\n",
       "</div>"
      ],
      "text/plain": [
       "                                   campaign_name  start_date    end_date  \\\n",
       "count                                       1032        1031        1030   \n",
       "unique                                      1014         347         347   \n",
       "top     User-friendly client-driven service-desk  2023-07-07  2023-10-09   \n",
       "freq                                           3           9           9   \n",
       "mean                                         NaN         NaN         NaN   \n",
       "std                                          NaN         NaN         NaN   \n",
       "min                                          NaN         NaN         NaN   \n",
       "25%                                          NaN         NaN         NaN   \n",
       "50%                                          NaN         NaN         NaN   \n",
       "75%                                          NaN         NaN         NaN   \n",
       "max                                          NaN         NaN         NaN   \n",
       "\n",
       "        budget          roi   type target_audience    channel  \\\n",
       "count     1029  1028.000000   1031            1030       1031   \n",
       "unique    1011          NaN      6               3          4   \n",
       "top     8082.3          NaN  email             B2B  promotion   \n",
       "freq         4          NaN    288             529        280   \n",
       "mean       NaN     0.533804    NaN             NaN        NaN   \n",
       "std        NaN     0.261869    NaN             NaN        NaN   \n",
       "min        NaN    -0.200000    NaN             NaN        NaN   \n",
       "25%        NaN     0.310000    NaN             NaN        NaN   \n",
       "50%        NaN     0.530000    NaN             NaN        NaN   \n",
       "75%        NaN     0.760000    NaN             NaN        NaN   \n",
       "max        NaN     0.990000    NaN             NaN        NaN   \n",
       "\n",
       "        conversion_rate        revenue  \n",
       "count       1028.000000    1029.000000  \n",
       "unique              NaN            NaN  \n",
       "top                 NaN            NaN  \n",
       "freq                NaN            NaN  \n",
       "mean           0.541936  511591.195277  \n",
       "std            0.267353  287292.729847  \n",
       "min            0.000000     108.210000  \n",
       "25%            0.300000  267820.250000  \n",
       "50%            0.550000  518001.770000  \n",
       "75%            0.770000  765775.140000  \n",
       "max            1.500000  999712.490000  "
      ]
     },
     "execution_count": 426,
     "metadata": {},
     "output_type": "execute_result"
    }
   ],
   "source": [
    "#todas las variables\n",
    "df.describe(include='all')"
   ]
  },
  {
   "cell_type": "markdown",
   "id": "c424f47e",
   "metadata": {},
   "source": [
    "#### Limpieza de los datos"
   ]
  },
  {
   "cell_type": "code",
   "execution_count": 427,
   "id": "6b6b1fd2",
   "metadata": {},
   "outputs": [
    {
     "data": {
      "text/plain": [
       "np.int64(15)"
      ]
     },
     "execution_count": 427,
     "metadata": {},
     "output_type": "execute_result"
    }
   ],
   "source": [
    "#conocer datos duplicados \n",
    "df.duplicated().sum()"
   ]
  },
  {
   "cell_type": "code",
   "execution_count": 428,
   "id": "e1d40b08",
   "metadata": {},
   "outputs": [],
   "source": [
    "#eliminar datos duplicados\n",
    "df.drop_duplicates(inplace=True)"
   ]
  },
  {
   "cell_type": "code",
   "execution_count": 429,
   "id": "051c010e",
   "metadata": {},
   "outputs": [
    {
     "data": {
      "text/plain": [
       "campaign_name      0\n",
       "start_date         1\n",
       "end_date           2\n",
       "budget             3\n",
       "roi                4\n",
       "type               1\n",
       "target_audience    2\n",
       "channel            1\n",
       "conversion_rate    4\n",
       "revenue            3\n",
       "dtype: int64"
      ]
     },
     "execution_count": 429,
     "metadata": {},
     "output_type": "execute_result"
    }
   ],
   "source": [
    "#conocer datos nulos\n",
    "df.isnull().sum()"
   ]
  },
  {
   "cell_type": "code",
   "execution_count": 430,
   "id": "3763e5ea",
   "metadata": {},
   "outputs": [
    {
     "data": {
      "text/plain": [
       "campaign_name      0.000000\n",
       "start_date         0.098328\n",
       "end_date           0.196657\n",
       "budget             0.294985\n",
       "roi                0.393314\n",
       "type               0.098328\n",
       "target_audience    0.196657\n",
       "channel            0.098328\n",
       "conversion_rate    0.393314\n",
       "revenue            0.294985\n",
       "dtype: float64"
      ]
     },
     "execution_count": 430,
     "metadata": {},
     "output_type": "execute_result"
    }
   ],
   "source": [
    "#calcular porcentaje datos nulos\n",
    "df.isnull().sum()/len(df)*100"
   ]
  },
  {
   "cell_type": "code",
   "execution_count": 431,
   "id": "e8fb5a56",
   "metadata": {},
   "outputs": [
    {
     "data": {
      "text/plain": [
       "<Axes: >"
      ]
     },
     "execution_count": 431,
     "metadata": {},
     "output_type": "execute_result"
    },
    {
     "data": {
      "image/png": "[encoded data removed]",
      "text/plain": [
       "<Figure size 1200x400 with 1 Axes>"
      ]
     },
     "metadata": {},
     "output_type": "display_data"
    }
   ],
   "source": [
    "#comprobar visualmente los datos nulos\n",
    "sns.heatmap(df.isnull(), cbar=False, cmap='viridis')"
   ]
  },
  {
   "cell_type": "markdown",
   "id": "63d0dad4",
   "metadata": {},
   "source": [
    "#### Eliminamos datos nulos"
   ]
  },
  {
   "cell_type": "code",
   "execution_count": 432,
   "id": "25bbe3a9",
   "metadata": {},
   "outputs": [],
   "source": [
    "df_limpio= df.copy()"
   ]
  },
  {
   "cell_type": "code",
   "execution_count": 433,
   "id": "183a247d",
   "metadata": {},
   "outputs": [],
   "source": [
    "#convertimos la columba a float\n",
    "df_limpio['budget'] = pd.to_numeric(df_limpio['budget'], errors='coerce')"
   ]
  },
  {
   "cell_type": "code",
   "execution_count": 434,
   "id": "07081e9f",
   "metadata": {},
   "outputs": [],
   "source": [
    "#Reparamos los valores nulos de la columna budget\n",
    "budget_mediana= df_limpio['budget'].median() #calculamos la mediana de la columna budget"
   ]
  },
  {
   "cell_type": "code",
   "execution_count": 435,
   "id": "d01f3bda",
   "metadata": {},
   "outputs": [],
   "source": [
    "#reemplazamos los valores nulos de la columna budget por 'Unknown'\n",
    "df_limpio ['budget'] = df_limpio['budget'].fillna('Unknown')"
   ]
  },
  {
   "cell_type": "code",
   "execution_count": 436,
   "id": "e42cb40c",
   "metadata": {},
   "outputs": [
    {
     "data": {
      "text/plain": [
       "np.int64(0)"
      ]
     },
     "execution_count": 436,
     "metadata": {},
     "output_type": "execute_result"
    }
   ],
   "source": [
    "#comprobamos\n",
    "df_limpio ['budget'].isnull().sum()"
   ]
  },
  {
   "cell_type": "code",
   "execution_count": 437,
   "id": "5e34fc9d",
   "metadata": {},
   "outputs": [],
   "source": [
    "#reemplazamos los valores nulos de la columna type por 'Unknown'\n",
    "df_limpio ['type'] = df_limpio['type'].fillna('Unknown')\n"
   ]
  },
  {
   "cell_type": "code",
   "execution_count": 438,
   "id": "4dc4e5fc",
   "metadata": {},
   "outputs": [
    {
     "data": {
      "text/plain": [
       "np.int64(0)"
      ]
     },
     "execution_count": 438,
     "metadata": {},
     "output_type": "execute_result"
    }
   ],
   "source": [
    "#comprobamos\n",
    "df_limpio ['type'].isnull().sum()"
   ]
  },
  {
   "cell_type": "code",
   "execution_count": 439,
   "id": "702362ba",
   "metadata": {},
   "outputs": [],
   "source": [
    "#hacemos lo mismo con channel y target_audience\n",
    "df_limpio ['channel'] = df_limpio['channel'].fillna('Unknown')\n",
    "df_limpio ['target_audience'] = df_limpio['target_audience'].fillna('Unknown')"
   ]
  },
  {
   "cell_type": "code",
   "execution_count": 440,
   "id": "d47c546d",
   "metadata": {},
   "outputs": [
    {
     "data": {
      "text/plain": [
       "np.int64(0)"
      ]
     },
     "execution_count": 440,
     "metadata": {},
     "output_type": "execute_result"
    }
   ],
   "source": [
    "#comprobamos\n",
    "df_limpio ['channel'].isnull().sum()\n"
   ]
  },
  {
   "cell_type": "code",
   "execution_count": 441,
   "id": "1309a6aa",
   "metadata": {},
   "outputs": [
    {
     "data": {
      "text/plain": [
       "np.int64(0)"
      ]
     },
     "execution_count": 441,
     "metadata": {},
     "output_type": "execute_result"
    }
   ],
   "source": [
    "df_limpio ['target_audience'].isnull().sum()"
   ]
  },
  {
   "cell_type": "code",
   "execution_count": 442,
   "id": "5998fb67",
   "metadata": {},
   "outputs": [],
   "source": [
    "df_limpio['roi'] = pd.to_numeric(df_limpio['roi'], errors='coerce')\n"
   ]
  },
  {
   "cell_type": "code",
   "execution_count": 443,
   "id": "c483c2b7",
   "metadata": {},
   "outputs": [
    {
     "name": "stdout",
     "output_type": "stream",
     "text": [
      "Porcentaje de nulos después de la imputación:\n",
      "roi                0.0\n",
      "conversion_rate    0.0\n",
      "revenue            0.0\n",
      "dtype: float64\n"
     ]
    },
    {
     "data": {
      "text/html": [
       "<div>\n",
       "<style scoped>\n",
       "    .dataframe tbody tr th:only-of-type {\n",
       "        vertical-align: middle;\n",
       "    }\n",
       "\n",
       "    .dataframe tbody tr th {\n",
       "        vertical-align: top;\n",
       "    }\n",
       "\n",
       "    .dataframe thead th {\n",
       "        text-align: right;\n",
       "    }\n",
       "</style>\n",
       "<table border=\"1\" class=\"dataframe\">\n",
       "  <thead>\n",
       "    <tr style=\"text-align: right;\">\n",
       "      <th></th>\n",
       "      <th>roi</th>\n",
       "      <th>conversion_rate</th>\n",
       "      <th>revenue</th>\n",
       "    </tr>\n",
       "  </thead>\n",
       "  <tbody>\n",
       "    <tr>\n",
       "      <th>0</th>\n",
       "      <td>0.35</td>\n",
       "      <td>0.40</td>\n",
       "      <td>709593.48</td>\n",
       "    </tr>\n",
       "    <tr>\n",
       "      <th>1</th>\n",
       "      <td>0.74</td>\n",
       "      <td>0.66</td>\n",
       "      <td>516609.10</td>\n",
       "    </tr>\n",
       "    <tr>\n",
       "      <th>2</th>\n",
       "      <td>0.37</td>\n",
       "      <td>0.28</td>\n",
       "      <td>458227.42</td>\n",
       "    </tr>\n",
       "    <tr>\n",
       "      <th>3</th>\n",
       "      <td>0.47</td>\n",
       "      <td>0.19</td>\n",
       "      <td>89958.73</td>\n",
       "    </tr>\n",
       "    <tr>\n",
       "      <th>4</th>\n",
       "      <td>0.30</td>\n",
       "      <td>0.81</td>\n",
       "      <td>47511.35</td>\n",
       "    </tr>\n",
       "  </tbody>\n",
       "</table>\n",
       "</div>"
      ],
      "text/plain": [
       "    roi  conversion_rate    revenue\n",
       "0  0.35             0.40  709593.48\n",
       "1  0.74             0.66  516609.10\n",
       "2  0.37             0.28  458227.42\n",
       "3  0.47             0.19   89958.73\n",
       "4  0.30             0.81   47511.35"
      ]
     },
     "execution_count": 443,
     "metadata": {},
     "output_type": "execute_result"
    }
   ],
   "source": [
    "#recurrimos al método KNN para ser más precisos en la imputación de los valores nulos en las columnas roi, conversion_rate y revenue\n",
    "from sklearn.impute import KNNImputer\n",
    "\n",
    "# Columnas que necesitas imputación\n",
    "numerical_columns = ['roi', 'conversion_rate', 'revenue']\n",
    "\n",
    "# Crear KNN imputer\n",
    "imputer = KNNImputer(n_neighbors=5)\n",
    "\n",
    "# Trasnformación\n",
    "df_limpio[numerical_columns] = imputer.fit_transform(df_limpio[numerical_columns])\n",
    "\n",
    "# Comprobación\n",
    "print(\"Porcentaje de nulos después de la imputación:\")\n",
    "print(df_limpio[numerical_columns].isnull().sum() / df_limpio.shape[0] * 100)\n",
    "\n",
    "# Mostrar los datos\n",
    "df_limpio[numerical_columns].head()"
   ]
  },
  {
   "cell_type": "code",
   "execution_count": 444,
   "id": "eec31595",
   "metadata": {},
   "outputs": [
    {
     "data": {
      "text/plain": [
       "campaign_name      0.000000\n",
       "start_date         0.098328\n",
       "end_date           0.196657\n",
       "budget             0.000000\n",
       "roi                0.000000\n",
       "type               0.000000\n",
       "target_audience    0.000000\n",
       "channel            0.000000\n",
       "conversion_rate    0.000000\n",
       "revenue            0.000000\n",
       "dtype: float64"
      ]
     },
     "execution_count": 444,
     "metadata": {},
     "output_type": "execute_result"
    }
   ],
   "source": [
    "#comprobamos el estado de nuestros datos nulos\n",
    "df_limpio.isnull().sum()/len(df_limpio)*100"
   ]
  },
  {
   "cell_type": "code",
   "execution_count": 445,
   "id": "bc87bb2f",
   "metadata": {},
   "outputs": [
    {
     "data": {
      "text/html": [
       "<div>\n",
       "<style scoped>\n",
       "    .dataframe tbody tr th:only-of-type {\n",
       "        vertical-align: middle;\n",
       "    }\n",
       "\n",
       "    .dataframe tbody tr th {\n",
       "        vertical-align: top;\n",
       "    }\n",
       "\n",
       "    .dataframe thead th {\n",
       "        text-align: right;\n",
       "    }\n",
       "</style>\n",
       "<table border=\"1\" class=\"dataframe\">\n",
       "  <thead>\n",
       "    <tr style=\"text-align: right;\">\n",
       "      <th></th>\n",
       "      <th>campaign_name</th>\n",
       "      <th>start_date</th>\n",
       "      <th>end_date</th>\n",
       "      <th>budget</th>\n",
       "      <th>roi</th>\n",
       "      <th>type</th>\n",
       "      <th>target_audience</th>\n",
       "      <th>channel</th>\n",
       "      <th>conversion_rate</th>\n",
       "      <th>revenue</th>\n",
       "    </tr>\n",
       "  </thead>\n",
       "  <tbody>\n",
       "    <tr>\n",
       "      <th>0</th>\n",
       "      <td>Public-key multi-tasking throughput</td>\n",
       "      <td>2023-04-01</td>\n",
       "      <td>2024-02-23</td>\n",
       "      <td>8082.3</td>\n",
       "      <td>0.35</td>\n",
       "      <td>email</td>\n",
       "      <td>B2B</td>\n",
       "      <td>organic</td>\n",
       "      <td>0.40</td>\n",
       "      <td>709593.48</td>\n",
       "    </tr>\n",
       "    <tr>\n",
       "      <th>1</th>\n",
       "      <td>De-engineered analyzing task-force</td>\n",
       "      <td>2023-02-15</td>\n",
       "      <td>2024-04-22</td>\n",
       "      <td>17712.98</td>\n",
       "      <td>0.74</td>\n",
       "      <td>email</td>\n",
       "      <td>B2C</td>\n",
       "      <td>promotion</td>\n",
       "      <td>0.66</td>\n",
       "      <td>516609.10</td>\n",
       "    </tr>\n",
       "  </tbody>\n",
       "</table>\n",
       "</div>"
      ],
      "text/plain": [
       "                         campaign_name  start_date    end_date    budget  \\\n",
       "0  Public-key multi-tasking throughput  2023-04-01  2024-02-23    8082.3   \n",
       "1   De-engineered analyzing task-force  2023-02-15  2024-04-22  17712.98   \n",
       "\n",
       "    roi   type target_audience    channel  conversion_rate    revenue  \n",
       "0  0.35  email             B2B    organic             0.40  709593.48  \n",
       "1  0.74  email             B2C  promotion             0.66  516609.10  "
      ]
     },
     "execution_count": 445,
     "metadata": {},
     "output_type": "execute_result"
    }
   ],
   "source": [
    "df_limpio.head(2)"
   ]
  },
  {
   "cell_type": "code",
   "execution_count": 446,
   "id": "a63db686",
   "metadata": {},
   "outputs": [],
   "source": [
    "# Conversión de fechas a datetime\n",
    "df_limpio['start_date'] = pd.to_datetime(df_limpio['start_date'], errors='coerce', utc=True)\n",
    "df_limpio['end_date'] = pd.to_datetime(df_limpio['end_date'],   errors='coerce', utc=True)\n"
   ]
  },
  {
   "cell_type": "code",
   "execution_count": 447,
   "id": "3b05fc3e",
   "metadata": {},
   "outputs": [
    {
     "name": "stdout",
     "output_type": "stream",
     "text": [
      "Mediana de duración: 364 días\n"
     ]
    },
    {
     "name": "stderr",
     "output_type": "stream",
     "text": [
      "/var/folders/qj/w1prc6gn25l836z9b7mn6x940000gn/T/ipykernel_1068/4014609017.py:6: FutureWarning: A value is trying to be set on a copy of a DataFrame or Series through chained assignment using an inplace method.\n",
      "The behavior will change in pandas 3.0. This inplace method will never work because the intermediate object on which we are setting values always behaves as a copy.\n",
      "\n",
      "For example, when doing 'df[col].method(value, inplace=True)', try using 'df.method({col: value}, inplace=True)' or df[col] = df[col].method(value) instead, to perform the operation inplace on the original object.\n",
      "\n",
      "\n",
      "  df_limpio['start_date'].fillna(df_limpio['end_date'] - pd.Timedelta(days=median_dur), inplace=True)\n"
     ]
    }
   ],
   "source": [
    "# Calcular duration_days temporalmente para obtener la mediana\n",
    "temp_duration = (df_limpio['end_date'] - df_limpio['start_date']).dt.days\n",
    "median_dur = int(temp_duration.median())\n",
    "\n",
    "# Rellenar valores faltantes en start_date con una fecha calculada\n",
    "df_limpio['start_date'].fillna(df_limpio['end_date'] - pd.Timedelta(days=median_dur), inplace=True)\n",
    "\n",
    "# Ahora calcular la duración en días\n",
    "df_limpio['duration_days'] = (df_limpio['end_date'] - df_limpio['start_date']).dt.days\n",
    "print(f\"Mediana de duración: {median_dur} días\")\n",
    "\n"
   ]
  },
  {
   "cell_type": "code",
   "execution_count": 448,
   "id": "dfc3521d",
   "metadata": {},
   "outputs": [],
   "source": [
    "# 3) Imputar start_date faltantes (pero sí tienen end_date)\n",
    "mask_start_missing = df_limpio['start_date'].isna() & df_limpio['end_date'].notna()\n",
    "df.loc[mask_start_missing, 'start_date'] = (\n",
    "    df.loc[mask_start_missing, 'end_date'] - pd.Timedelta(days=median_dur)\n",
    ")\n",
    "\n",
    "# 4) Imputar end_date faltantes (pero sí tienen start_date)\n",
    "mask_end_missing = df_limpio['end_date'].isna() & df['start_date'].notna()\n",
    "df_limpio.loc[mask_end_missing, 'end_date'] = (\n",
    "    df_limpio.loc[mask_end_missing, 'start_date'] + pd.Timedelta(days=median_dur)\n",
    ")\n",
    "\n",
    "# 5) Imputar ambas fechas para “Typo in Date”\n",
    "min_start = df_limpio['start_date'].min()  # la fecha más antigua tras imputación previa\n",
    "mask_typo = df_limpio['campaign_name'] == \"Typo in Date\"\n",
    "df_limpio.loc[mask_typo, 'start_date'] = min_start\n",
    "df_limpio.loc[mask_typo, 'end_date']   = min_start + pd.Timedelta(days=median_dur)"
   ]
  },
  {
   "cell_type": "code",
   "execution_count": 449,
   "id": "79c2fa8f",
   "metadata": {},
   "outputs": [
    {
     "data": {
      "text/plain": [
       "campaign_name      0.000000\n",
       "start_date         0.000000\n",
       "end_date           0.000000\n",
       "budget             0.000000\n",
       "roi                0.000000\n",
       "type               0.000000\n",
       "target_audience    0.000000\n",
       "channel            0.000000\n",
       "conversion_rate    0.000000\n",
       "revenue            0.000000\n",
       "duration_days      0.294985\n",
       "dtype: float64"
      ]
     },
     "execution_count": 449,
     "metadata": {},
     "output_type": "execute_result"
    }
   ],
   "source": [
    "#comprobamos el estado de nuestros datos nulos\n",
    "df_limpio.isnull().sum()/len(df_limpio)*100"
   ]
  },
  {
   "cell_type": "code",
   "execution_count": 450,
   "id": "689a4418",
   "metadata": {},
   "outputs": [],
   "source": [
    "df['start_date'] = pd.to_datetime(df['start_date'], errors='coerce', utc=True)\n",
    "df['end_date'] = pd.to_datetime(df['end_date'], errors='coerce', utc=True)\n",
    "df['duration_days'] = (df['end_date'] - df['start_date']).dt.days"
   ]
  },
  {
   "cell_type": "code",
   "execution_count": 451,
   "id": "419c75e7",
   "metadata": {},
   "outputs": [
    {
     "name": "stdout",
     "output_type": "stream",
     "text": [
      "3\n"
     ]
    }
   ],
   "source": [
    "# Verificar que no queden valores nulos en 'duration_days'\n",
    "print(df_limpio['duration_days'].isnull().sum())"
   ]
  },
  {
   "cell_type": "code",
   "execution_count": 452,
   "id": "ee869218",
   "metadata": {},
   "outputs": [],
   "source": [
    "#reemplazamos los valores nulos de la columna duration-days por 'Sin Datos'\n",
    "df_limpio ['duration_days'] = df_limpio['duration_days'].fillna('Sin Datos')"
   ]
  },
  {
   "cell_type": "code",
   "execution_count": 453,
   "id": "11096cc9",
   "metadata": {},
   "outputs": [
    {
     "data": {
      "text/plain": [
       "campaign_name      0.0\n",
       "start_date         0.0\n",
       "end_date           0.0\n",
       "budget             0.0\n",
       "roi                0.0\n",
       "type               0.0\n",
       "target_audience    0.0\n",
       "channel            0.0\n",
       "conversion_rate    0.0\n",
       "revenue            0.0\n",
       "duration_days      0.0\n",
       "dtype: float64"
      ]
     },
     "execution_count": 453,
     "metadata": {},
     "output_type": "execute_result"
    }
   ],
   "source": [
    "#comprobamos el estado de nuestros datos nulos\n",
    "df_limpio.isnull().sum()/len(df_limpio)*100\n",
    "# ...existing code..."
   ]
  },
  {
   "cell_type": "code",
   "execution_count": 454,
   "id": "d5285984",
   "metadata": {},
   "outputs": [],
   "source": [
    "df_limpio['budget'] = pd.to_numeric(df_limpio['budget'], errors='coerce')\n",
    "df_limpio['roi'] = (df_limpio['revenue'] - df_limpio['budget']) / df_limpio['budget'] * 100\n"
   ]
  },
  {
   "cell_type": "code",
   "execution_count": 485,
   "id": "b9acd43b",
   "metadata": {},
   "outputs": [],
   "source": [
    "#redondeamos a 2 decimales\n",
    "df_limpio['roi'] = df_limpio['roi'].round(2)\n"
   ]
  },
  {
   "cell_type": "code",
   "execution_count": 486,
   "id": "7e3da99e",
   "metadata": {},
   "outputs": [
    {
     "data": {
      "text/plain": [
       "0        8679.6%%\n",
       "1       2816.56%%\n",
       "2        441.36%%\n",
       "3        516.59%%\n",
       "4         20.92%%\n",
       "          ...    \n",
       "1027    1362.83%%\n",
       "1028      200.0%%\n",
       "1029        nan%%\n",
       "1030       50.0%%\n",
       "1031      200.0%%\n",
       "Name: roi, Length: 1017, dtype: object"
      ]
     },
     "execution_count": 486,
     "metadata": {},
     "output_type": "execute_result"
    }
   ],
   "source": [
    "#comprobamos\n",
    "df_limpio['roi']"
   ]
  },
  {
   "cell_type": "code",
   "execution_count": 487,
   "id": "dcb2f48f",
   "metadata": {},
   "outputs": [
    {
     "data": {
      "text/plain": [
       "np.int64(0)"
      ]
     },
     "execution_count": 487,
     "metadata": {},
     "output_type": "execute_result"
    }
   ],
   "source": [
    "#comprobamos si existen valores nulos en la nueva columna roi\n",
    "df_limpio['roi'].isnull().sum()"
   ]
  },
  {
   "cell_type": "markdown",
   "id": "3bc1a306",
   "metadata": {},
   "source": [
    "#### Comprobamos errores en el texto y reemplazamos"
   ]
  },
  {
   "cell_type": "code",
   "execution_count": 457,
   "id": "62b3f161",
   "metadata": {},
   "outputs": [
    {
     "name": "stdout",
     "output_type": "stream",
     "text": [
      "['email' 'podcast' 'webinar' 'social media' 'Unknown' 'event' 'B2B']\n"
     ]
    }
   ],
   "source": [
    "# Comprobar los valores únicos en la columna 'type'\n",
    "print(df_limpio['type'].unique())"
   ]
  },
  {
   "cell_type": "code",
   "execution_count": 458,
   "id": "f68cc24c",
   "metadata": {},
   "outputs": [],
   "source": [
    "#reemplazar las filas que contengan 'referral' por 'referral'\n",
    "df_limpio['channel'] = df_limpio['channel'].replace('referral', 'Referral')"
   ]
  },
  {
   "cell_type": "code",
   "execution_count": 459,
   "id": "6f5989f4",
   "metadata": {},
   "outputs": [
    {
     "name": "stdout",
     "output_type": "stream",
     "text": [
      "['organic' 'promotion' 'paid' 'Referral' 'Unknown']\n"
     ]
    }
   ],
   "source": [
    "# Comprobar los valores únicos en la columna 'channel'\n",
    "print(df_limpio['channel'].unique())"
   ]
  },
  {
   "cell_type": "code",
   "execution_count": 460,
   "id": "268f2e4b",
   "metadata": {},
   "outputs": [
    {
     "name": "stdout",
     "output_type": "stream",
     "text": [
      "['B2B' 'B2C' 'social media' 'Unknown']\n"
     ]
    }
   ],
   "source": [
    "# Comprobar los valores únicos en la columna 'target_audience'\n",
    "print(df_limpio['target_audience'].unique())"
   ]
  },
  {
   "cell_type": "code",
   "execution_count": 461,
   "id": "eb852ac6",
   "metadata": {},
   "outputs": [],
   "source": [
    "#reemplazar las filas que contengan errores tipograficos\n",
    "df_limpio['target_audience'] = df_limpio['target_audience'].replace('b2b', 'B2B')\n",
    "df_limpio['target_audience'] = df_limpio['target_audience'].replace('b2c', 'B2C')"
   ]
  },
  {
   "cell_type": "code",
   "execution_count": 462,
   "id": "8603083d",
   "metadata": {},
   "outputs": [],
   "source": [
    "#Sustuir los valores 'social media' de la columna target_audience por 'Unknown'ArithmeticError\n",
    "df_limpio['target_audience'] = df_limpio['target_audience'].replace('social media', 'Unknown')"
   ]
  },
  {
   "cell_type": "code",
   "execution_count": 463,
   "id": "736862ad",
   "metadata": {},
   "outputs": [
    {
     "name": "stdout",
     "output_type": "stream",
     "text": [
      "['B2B' 'B2C' 'Unknown']\n"
     ]
    }
   ],
   "source": [
    "# Comprobar los valores únicos en la columna 'target_audience'\n",
    "print(df_limpio['target_audience'].unique())"
   ]
  },
  {
   "cell_type": "markdown",
   "id": "5c5640ad",
   "metadata": {},
   "source": [
    "#### Crear una nueva columna con el beneficio neto"
   ]
  },
  {
   "cell_type": "code",
   "execution_count": 464,
   "id": "872a6a89",
   "metadata": {},
   "outputs": [],
   "source": [
    "df_limpio['beneficio_neto'] = df_limpio['revenue'] - df_limpio['budget']"
   ]
  },
  {
   "cell_type": "code",
   "execution_count": 465,
   "id": "c20c4281",
   "metadata": {},
   "outputs": [
    {
     "data": {
      "text/html": [
       "<div>\n",
       "<style scoped>\n",
       "    .dataframe tbody tr th:only-of-type {\n",
       "        vertical-align: middle;\n",
       "    }\n",
       "\n",
       "    .dataframe tbody tr th {\n",
       "        vertical-align: top;\n",
       "    }\n",
       "\n",
       "    .dataframe thead th {\n",
       "        text-align: right;\n",
       "    }\n",
       "</style>\n",
       "<table border=\"1\" class=\"dataframe\">\n",
       "  <thead>\n",
       "    <tr style=\"text-align: right;\">\n",
       "      <th></th>\n",
       "      <th>campaign_name</th>\n",
       "      <th>start_date</th>\n",
       "      <th>end_date</th>\n",
       "      <th>budget</th>\n",
       "      <th>roi</th>\n",
       "      <th>type</th>\n",
       "      <th>target_audience</th>\n",
       "      <th>channel</th>\n",
       "      <th>conversion_rate</th>\n",
       "      <th>revenue</th>\n",
       "      <th>duration_days</th>\n",
       "      <th>beneficio_neto</th>\n",
       "    </tr>\n",
       "  </thead>\n",
       "  <tbody>\n",
       "    <tr>\n",
       "      <th>0</th>\n",
       "      <td>Public-key multi-tasking throughput</td>\n",
       "      <td>2023-04-01 00:00:00+00:00</td>\n",
       "      <td>2024-02-23 00:00:00+00:00</td>\n",
       "      <td>8082.30</td>\n",
       "      <td>8679.6%</td>\n",
       "      <td>email</td>\n",
       "      <td>B2B</td>\n",
       "      <td>organic</td>\n",
       "      <td>0.400</td>\n",
       "      <td>709593.480</td>\n",
       "      <td>328.0</td>\n",
       "      <td>701511.180</td>\n",
       "    </tr>\n",
       "    <tr>\n",
       "      <th>1</th>\n",
       "      <td>De-engineered analyzing task-force</td>\n",
       "      <td>2023-02-15 00:00:00+00:00</td>\n",
       "      <td>2024-04-22 00:00:00+00:00</td>\n",
       "      <td>17712.98</td>\n",
       "      <td>2816.56%</td>\n",
       "      <td>email</td>\n",
       "      <td>B2C</td>\n",
       "      <td>promotion</td>\n",
       "      <td>0.660</td>\n",
       "      <td>516609.100</td>\n",
       "      <td>432.0</td>\n",
       "      <td>498896.120</td>\n",
       "    </tr>\n",
       "    <tr>\n",
       "      <th>2</th>\n",
       "      <td>Balanced solution-oriented Local Area Network</td>\n",
       "      <td>2022-12-20 00:00:00+00:00</td>\n",
       "      <td>2023-10-11 00:00:00+00:00</td>\n",
       "      <td>84643.10</td>\n",
       "      <td>441.36%</td>\n",
       "      <td>podcast</td>\n",
       "      <td>B2B</td>\n",
       "      <td>paid</td>\n",
       "      <td>0.280</td>\n",
       "      <td>458227.420</td>\n",
       "      <td>295.0</td>\n",
       "      <td>373584.320</td>\n",
       "    </tr>\n",
       "    <tr>\n",
       "      <th>3</th>\n",
       "      <td>Distributed real-time methodology</td>\n",
       "      <td>2022-09-26 00:00:00+00:00</td>\n",
       "      <td>2023-09-27 00:00:00+00:00</td>\n",
       "      <td>14589.75</td>\n",
       "      <td>516.59%</td>\n",
       "      <td>webinar</td>\n",
       "      <td>B2B</td>\n",
       "      <td>organic</td>\n",
       "      <td>0.190</td>\n",
       "      <td>89958.730</td>\n",
       "      <td>366.0</td>\n",
       "      <td>75368.980</td>\n",
       "    </tr>\n",
       "    <tr>\n",
       "      <th>4</th>\n",
       "      <td>Front-line executive infrastructure</td>\n",
       "      <td>2023-07-07 00:00:00+00:00</td>\n",
       "      <td>2024-05-15 00:00:00+00:00</td>\n",
       "      <td>39291.90</td>\n",
       "      <td>20.92%</td>\n",
       "      <td>social media</td>\n",
       "      <td>B2B</td>\n",
       "      <td>promotion</td>\n",
       "      <td>0.810</td>\n",
       "      <td>47511.350</td>\n",
       "      <td>313.0</td>\n",
       "      <td>8219.450</td>\n",
       "    </tr>\n",
       "    <tr>\n",
       "      <th>...</th>\n",
       "      <td>...</td>\n",
       "      <td>...</td>\n",
       "      <td>...</td>\n",
       "      <td>...</td>\n",
       "      <td>...</td>\n",
       "      <td>...</td>\n",
       "      <td>...</td>\n",
       "      <td>...</td>\n",
       "      <td>...</td>\n",
       "      <td>...</td>\n",
       "      <td>...</td>\n",
       "      <td>...</td>\n",
       "    </tr>\n",
       "    <tr>\n",
       "      <th>1027</th>\n",
       "      <td>No revenue campaign</td>\n",
       "      <td>2023-02-01 00:00:00+00:00</td>\n",
       "      <td>2023-08-01 00:00:00+00:00</td>\n",
       "      <td>20000.00</td>\n",
       "      <td>1362.83%</td>\n",
       "      <td>social media</td>\n",
       "      <td>B2B</td>\n",
       "      <td>organic</td>\n",
       "      <td>0.500</td>\n",
       "      <td>292565.718</td>\n",
       "      <td>181.0</td>\n",
       "      <td>272565.718</td>\n",
       "    </tr>\n",
       "    <tr>\n",
       "      <th>1028</th>\n",
       "      <td>Random mess</td>\n",
       "      <td>2023-06-06 00:00:00+00:00</td>\n",
       "      <td>2024-06-04 00:00:00+00:00</td>\n",
       "      <td>100000.00</td>\n",
       "      <td>200.0%</td>\n",
       "      <td>podcast</td>\n",
       "      <td>Unknown</td>\n",
       "      <td>Referral</td>\n",
       "      <td>0.596</td>\n",
       "      <td>300000.000</td>\n",
       "      <td>Sin Datos</td>\n",
       "      <td>200000.000</td>\n",
       "    </tr>\n",
       "    <tr>\n",
       "      <th>1029</th>\n",
       "      <td>Invalid budget</td>\n",
       "      <td>2022-12-01 00:00:00+00:00</td>\n",
       "      <td>2023-06-01 00:00:00+00:00</td>\n",
       "      <td>NaN</td>\n",
       "      <td>nan%</td>\n",
       "      <td>email</td>\n",
       "      <td>B2C</td>\n",
       "      <td>promotion</td>\n",
       "      <td>0.200</td>\n",
       "      <td>50000.000</td>\n",
       "      <td>182.0</td>\n",
       "      <td>NaN</td>\n",
       "    </tr>\n",
       "    <tr>\n",
       "      <th>1030</th>\n",
       "      <td>Overlapping dates</td>\n",
       "      <td>2023-03-01 00:00:00+00:00</td>\n",
       "      <td>2022-12-31 00:00:00+00:00</td>\n",
       "      <td>60000.00</td>\n",
       "      <td>50.0%</td>\n",
       "      <td>webinar</td>\n",
       "      <td>B2B</td>\n",
       "      <td>paid</td>\n",
       "      <td>0.700</td>\n",
       "      <td>90000.000</td>\n",
       "      <td>-60.0</td>\n",
       "      <td>30000.000</td>\n",
       "    </tr>\n",
       "    <tr>\n",
       "      <th>1031</th>\n",
       "      <td>Too many conversions</td>\n",
       "      <td>2023-05-01 00:00:00+00:00</td>\n",
       "      <td>2023-11-01 00:00:00+00:00</td>\n",
       "      <td>40000.00</td>\n",
       "      <td>200.0%</td>\n",
       "      <td>social media</td>\n",
       "      <td>B2C</td>\n",
       "      <td>organic</td>\n",
       "      <td>1.500</td>\n",
       "      <td>120000.000</td>\n",
       "      <td>184.0</td>\n",
       "      <td>80000.000</td>\n",
       "    </tr>\n",
       "  </tbody>\n",
       "</table>\n",
       "<p>1017 rows × 12 columns</p>\n",
       "</div>"
      ],
      "text/plain": [
       "                                      campaign_name                start_date  \\\n",
       "0               Public-key multi-tasking throughput 2023-04-01 00:00:00+00:00   \n",
       "1                De-engineered analyzing task-force 2023-02-15 00:00:00+00:00   \n",
       "2     Balanced solution-oriented Local Area Network 2022-12-20 00:00:00+00:00   \n",
       "3                 Distributed real-time methodology 2022-09-26 00:00:00+00:00   \n",
       "4               Front-line executive infrastructure 2023-07-07 00:00:00+00:00   \n",
       "...                                             ...                       ...   \n",
       "1027                            No revenue campaign 2023-02-01 00:00:00+00:00   \n",
       "1028                                    Random mess 2023-06-06 00:00:00+00:00   \n",
       "1029                                 Invalid budget 2022-12-01 00:00:00+00:00   \n",
       "1030                              Overlapping dates 2023-03-01 00:00:00+00:00   \n",
       "1031                           Too many conversions 2023-05-01 00:00:00+00:00   \n",
       "\n",
       "                      end_date     budget       roi          type  \\\n",
       "0    2024-02-23 00:00:00+00:00    8082.30   8679.6%         email   \n",
       "1    2024-04-22 00:00:00+00:00   17712.98  2816.56%         email   \n",
       "2    2023-10-11 00:00:00+00:00   84643.10   441.36%       podcast   \n",
       "3    2023-09-27 00:00:00+00:00   14589.75   516.59%       webinar   \n",
       "4    2024-05-15 00:00:00+00:00   39291.90    20.92%  social media   \n",
       "...                        ...        ...       ...           ...   \n",
       "1027 2023-08-01 00:00:00+00:00   20000.00  1362.83%  social media   \n",
       "1028 2024-06-04 00:00:00+00:00  100000.00    200.0%       podcast   \n",
       "1029 2023-06-01 00:00:00+00:00        NaN      nan%         email   \n",
       "1030 2022-12-31 00:00:00+00:00   60000.00     50.0%       webinar   \n",
       "1031 2023-11-01 00:00:00+00:00   40000.00    200.0%  social media   \n",
       "\n",
       "     target_audience    channel  conversion_rate     revenue duration_days  \\\n",
       "0                B2B    organic            0.400  709593.480         328.0   \n",
       "1                B2C  promotion            0.660  516609.100         432.0   \n",
       "2                B2B       paid            0.280  458227.420         295.0   \n",
       "3                B2B    organic            0.190   89958.730         366.0   \n",
       "4                B2B  promotion            0.810   47511.350         313.0   \n",
       "...              ...        ...              ...         ...           ...   \n",
       "1027             B2B    organic            0.500  292565.718         181.0   \n",
       "1028         Unknown   Referral            0.596  300000.000     Sin Datos   \n",
       "1029             B2C  promotion            0.200   50000.000         182.0   \n",
       "1030             B2B       paid            0.700   90000.000         -60.0   \n",
       "1031             B2C    organic            1.500  120000.000         184.0   \n",
       "\n",
       "      beneficio_neto  \n",
       "0         701511.180  \n",
       "1         498896.120  \n",
       "2         373584.320  \n",
       "3          75368.980  \n",
       "4           8219.450  \n",
       "...              ...  \n",
       "1027      272565.718  \n",
       "1028      200000.000  \n",
       "1029             NaN  \n",
       "1030       30000.000  \n",
       "1031       80000.000  \n",
       "\n",
       "[1017 rows x 12 columns]"
      ]
     },
     "execution_count": 465,
     "metadata": {},
     "output_type": "execute_result"
    }
   ],
   "source": [
    "df_limpio"
   ]
  },
  {
   "cell_type": "markdown",
   "id": "1728159e",
   "metadata": {},
   "source": [
    "#### Solucionar outliers de valores numéricos"
   ]
  },
  {
   "cell_type": "code",
   "execution_count": 466,
   "id": "407e0b4e",
   "metadata": {},
   "outputs": [
    {
     "name": "stdout",
     "output_type": "stream",
     "text": [
      "Filas con presupuesto negativo:\n",
      "          campaign_name                start_date                  end_date  \\\n",
      "1023  Negative ROI test 2022-10-10 00:00:00+00:00 2023-05-05 00:00:00+00:00   \n",
      "\n",
      "       budget        roi     type target_audience   channel  conversion_rate  \\\n",
      "1023 -10000.0  -4297.18%  podcast             B2C  Referral              0.1   \n",
      "\n",
      "         revenue duration_days  beneficio_neto  \n",
      "1023  419718.388         207.0      429718.388  \n",
      "\n",
      "Valores mínimos de presupuesto después de la corrección:\n",
      "0.0\n"
     ]
    }
   ],
   "source": [
    "# Identificar filas con budget negativo\n",
    "presupuestos_negativos = df_limpio[df_limpio['budget'] < 0]\n",
    "print(\"Filas con presupuesto negativo:\")\n",
    "print(presupuestos_negativos)\n",
    "\n",
    "# Reemplazar los valores negativos con 0\n",
    "df_limpio['budget'] = df_limpio['budget'].apply(lambda x: max(x, 0))\n",
    "\n",
    "# Verificar que no queden valores negativos\n",
    "print(\"\\nValores mínimos de presupuesto después de la corrección:\")\n",
    "print(df_limpio['budget'].min())\n"
   ]
  },
  {
   "cell_type": "markdown",
   "id": "495037ea",
   "metadata": {},
   "source": [
    "#### Categorizaciones y filtros"
   ]
  },
  {
   "cell_type": "code",
   "execution_count": 468,
   "id": "f698f923",
   "metadata": {},
   "outputs": [
    {
     "name": "stdout",
     "output_type": "stream",
     "text": [
      "9999999.0\n",
      "0.0\n"
     ]
    }
   ],
   "source": [
    "#Calculamos el budget maximo para categorizar\n",
    "max_budget = df_limpio['budget'].max()\n",
    "print(max_budget)\n",
    "\n",
    "#Calculamos el budget minimo para categorizar\n",
    "min_budget = df_limpio['budget'].min()\n",
    "print(min_budget)"
   ]
  },
  {
   "cell_type": "code",
   "execution_count": 470,
   "id": "f8adbdbd",
   "metadata": {},
   "outputs": [],
   "source": [
    "# Categorizando el budget\n",
    "df_limpio['budget_cat'] = pd.cut(\n",
    "    df_limpio['budget'],\n",
    "    bins=[0, 1000, 10000, 100000, 1000000, float('inf')],\n",
    "    labels=['Nulo', 'Bajo', 'Medio', 'Alto', 'Muy Alto'],\n",
    "    include_lowest=True\n",
    ")"
   ]
  },
  {
   "cell_type": "code",
   "execution_count": 471,
   "id": "46f693d5",
   "metadata": {},
   "outputs": [
    {
     "name": "stdout",
     "output_type": "stream",
     "text": [
      "999712.49\n",
      "108.21\n"
     ]
    }
   ],
   "source": [
    "#Calculamos el budget maximo para categorizar\n",
    "max_budget = df_limpio['revenue'].max()\n",
    "print(max_budget)\n",
    "\n",
    "#Calculamos el budget minimo para categorizar\n",
    "min_budget = df_limpio['revenue'].min()\n",
    "print(min_budget)"
   ]
  },
  {
   "cell_type": "code",
   "execution_count": 472,
   "id": "f713d1f2",
   "metadata": {},
   "outputs": [],
   "source": [
    "# Categorizando el revenue\n",
    "df_limpio['revenue_cat'] = pd.cut(df_limpio['revenue'], bins=[0, 500, 10000, 100000, 1000000, float('inf')], labels=['Muy Bajo', 'Bajo', 'Medio', 'Alto', 'Muy Alto'], include_lowest=True)"
   ]
  },
  {
   "cell_type": "code",
   "execution_count": 488,
   "id": "01b3b904",
   "metadata": {},
   "outputs": [
    {
     "name": "stdout",
     "output_type": "stream",
     "text": [
      "nan%%\n"
     ]
    }
   ],
   "source": [
    "max_roi = df_limpio['roi'].max()\n",
    "print(max_roi)\n"
   ]
  },
  {
   "cell_type": "code",
   "execution_count": 477,
   "id": "410c49ec",
   "metadata": {},
   "outputs": [
    {
     "name": "stdout",
     "output_type": "stream",
     "text": [
      "-11.23%%\n"
     ]
    }
   ],
   "source": [
    "min_roi = df_limpio['roi'].min()\n",
    "print(min_roi)"
   ]
  },
  {
   "cell_type": "code",
   "execution_count": 494,
   "id": "68db2184",
   "metadata": {},
   "outputs": [
    {
     "name": "stdout",
     "output_type": "stream",
     "text": [
      "Número de valores negativos en la columna 'roi_num': 43\n"
     ]
    }
   ],
   "source": [
    "# Contar valores negativos en la columna 'roi_num'\n",
    "num_roi_negativos = (df_limpio['roi_num'] < 0).sum()\n",
    "\n",
    "print(f\"Número de valores negativos en la columna 'roi_num': {num_roi_negativos}\")\n"
   ]
  },
  {
   "cell_type": "code",
   "execution_count": 496,
   "id": "9ef3988f",
   "metadata": {},
   "outputs": [
    {
     "name": "stdout",
     "output_type": "stream",
     "text": [
      "Porcentaje de valores negativos en la columna 'roi_num': 4.23%\n"
     ]
    }
   ],
   "source": [
    "# Calcular el porcentaje de valores negativos\n",
    "porcentaje_negativos = (num_roi_negativos / len(df_limpio)) * 100\n",
    "print(f\"Porcentaje de valores negativos en la columna 'roi_num': {porcentaje_negativos:.2f}%\")\n"
   ]
  },
  {
   "cell_type": "code",
   "execution_count": 497,
   "id": "2e1a44e7",
   "metadata": {},
   "outputs": [],
   "source": [
    "# categorizar roi\n",
    "df_limpio['roi_cat'] = pd.cut(\n",
    "    df_limpio['roi_num'],\n",
    "    bins=[-20, 0, 10, 1000, 3000],\n",
    "    labels=['Pérdida', 'Bajo', 'Medio', 'Alto'],\n",
    "    include_lowest=True\n",
    ")\n"
   ]
  },
  {
   "cell_type": "code",
   "execution_count": 498,
   "id": "28894c28",
   "metadata": {},
   "outputs": [],
   "source": [
    "#guardamos el dataframe limpio en un nuevo archivo csv\n",
    "df_limpio.to_csv('preprocesamiento-marketing.csv', index=False)\n"
   ]
  }
 ],
 "metadata": {
  "kernelspec": {
   "display_name": "Python 3",
   "language": "python",
   "name": "python3"
  },
  "language_info": {
   "codemirror_mode": {
    "name": "ipython",
    "version": 3
   },
   "file_extension": ".py",
   "mimetype": "text/x-python",
   "name": "python",
   "nbconvert_exporter": "python",
   "pygments_lexer": "ipython3",
   "version": "3.10.11"
  }
 },
 "nbformat": 4,
 "nbformat_minor": 5
}
